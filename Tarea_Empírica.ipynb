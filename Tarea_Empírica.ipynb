{
  "nbformat": 4,
  "nbformat_minor": 0,
  "metadata": {
    "colab": {
      "provenance": [],
      "toc_visible": true,
      "authorship_tag": "ABX9TyMPY4Yp9kU4Z+U0Xi8Sadae",
      "include_colab_link": true
    },
    "kernelspec": {
      "name": "python3",
      "display_name": "Python 3"
    },
    "language_info": {
      "name": "python"
    }
  },
  "cells": [
    {
      "cell_type": "markdown",
      "metadata": {
        "id": "view-in-github",
        "colab_type": "text"
      },
      "source": [
        "<a href=\"https://colab.research.google.com/github/vcfq/Competencia-y-Regulaci-n/blob/main/Tarea_Emp%C3%ADrica.ipynb\" target=\"_parent\"><img src=\"https://colab.research.google.com/assets/colab-badge.svg\" alt=\"Open In Colab\"/></a>"
      ]
    },
    {
      "cell_type": "markdown",
      "source": [
        "# Pregunta 1"
      ],
      "metadata": {
        "id": "zpJYd--La7pw"
      }
    },
    {
      "cell_type": "code",
      "source": [],
      "metadata": {
        "id": "3kIA8noIbBkR"
      },
      "execution_count": null,
      "outputs": []
    }
  ]
}