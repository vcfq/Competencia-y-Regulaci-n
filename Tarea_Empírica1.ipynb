{
  "nbformat": 4,
  "nbformat_minor": 0,
  "metadata": {
    "colab": {
      "provenance": [],
      "include_colab_link": true
    },
    "kernelspec": {
      "name": "python3",
      "display_name": "Python 3"
    },
    "language_info": {
      "name": "python"
    }
  },
  "cells": [
    {
      "cell_type": "markdown",
      "metadata": {
        "id": "view-in-github",
        "colab_type": "text"
      },
      "source": [
        "<a href=\"https://colab.research.google.com/github/vcfq/Competencia-y-Regulaci-n/blob/main/Tarea_Emp%C3%ADrica1.ipynb\" target=\"_parent\"><img src=\"https://colab.research.google.com/assets/colab-badge.svg\" alt=\"Open In Colab\"/></a>"
      ]
    },
    {
      "cell_type": "markdown",
      "source": [
        "# Pregunta 1"
      ],
      "metadata": {
        "id": "sYTb94whIMrd"
      }
    },
    {
      "cell_type": "markdown",
      "source": [
        "Bases\n",
        "------"
      ],
      "metadata": {
        "id": "3XjOVfjfIUrT"
      }
    },
    {
      "cell_type": "code",
      "execution_count": 1,
      "metadata": {
        "id": "U9jirzFLIGS7"
      },
      "outputs": [],
      "source": [
        "import pandas as pd\n",
        "\n",
        "url_base1 = 'https://github.com/vcfq/Competencia-y-Regulaci-n/raw/refs/heads/main/base1.xlsx'\n",
        "url_base2 = 'https://github.com/vcfq/Competencia-y-Regulaci-n/raw/refs/heads/main/base2.xlsx'\n",
        "\n",
        "df_1 = pd.read_excel(url_base1)\n",
        "df_2 = pd.read_excel(url_base2)"
      ]
    },
    {
      "cell_type": "markdown",
      "source": [
        "Estadísticas descriptivas\n",
        "-----"
      ],
      "metadata": {
        "id": "V0_pWBE3IbnR"
      }
    },
    {
      "cell_type": "markdown",
      "source": [
        "**Prestadores en el tiempo**"
      ],
      "metadata": {
        "id": "qYcaf4tfI1x9"
      }
    },
    {
      "cell_type": "code",
      "source": [
        "import matplotlib.pyplot as plt\n",
        "import seaborn as sns\n",
        "import numpy as np\n",
        "from google.colab import files\n",
        "\n",
        "#merge de bases\n",
        "df = df_1.merge(df_2, on=\"ciudad\")\n",
        "df[\"poblacion_total\"] = df[\"poblacion_inicial\"] * (1 + df[\"crecimiento_anual\"]) ** (df[\"year\"] - 2001)\n",
        "df[\"porcentaje_operados\"] = df[\"num_operados\"] / df[\"poblacion_total\"]\n",
        "df"
      ],
      "metadata": {
        "colab": {
          "base_uri": "https://localhost:8080/",
          "height": 424
        },
        "id": "k8b_V09NIwXc",
        "outputId": "f1aabaee-6331-4383-90c9-2e0fe5256115"
      },
      "execution_count": 2,
      "outputs": [
        {
          "output_type": "execute_result",
          "data": {
            "text/plain": [
              "     ciudad  year  prestador  num_operados  tecnologia_alta  infraestructura  \\\n",
              "0         1  2001  Clinica_B   2521.478838                0         6.993077   \n",
              "1         1  2001  Clinica_A   3327.113736                0         8.313865   \n",
              "2         1  2001  Clinica_C   2569.037947                0         5.452967   \n",
              "3         1  2001    Publico   2512.660532                0         5.367397   \n",
              "4         1  2002  Clinica_A   6000.304696                0         8.743796   \n",
              "..      ...   ...        ...           ...              ...              ...   \n",
              "672      20  2009    Publico   2138.036168                0         5.747862   \n",
              "673      20  2009  Clinica_A  26625.029037                1         7.966443   \n",
              "674      20  2010  Clinica_C   6184.974853                0         6.356885   \n",
              "675      20  2010    Publico   5521.168999                0         5.660949   \n",
              "676      20  2010  Clinica_A   9034.773054                1         7.448908   \n",
              "\n",
              "     puntaje_doctor     precio  poblacion_inicial  crecimiento_anual  \\\n",
              "0          6.820721   9.458984             228037           0.056576   \n",
              "1          8.516229  10.584837             228037           0.056576   \n",
              "2          6.444618   9.180535             228037           0.056576   \n",
              "3          8.169181  10.166758             228037           0.056576   \n",
              "4          8.838369  10.384828             228037           0.056576   \n",
              "..              ...        ...                ...                ...   \n",
              "672        7.807999  10.397965             394103           0.031370   \n",
              "673        8.677398  11.878463             394103           0.031370   \n",
              "674        5.956945   8.429723             394103           0.031370   \n",
              "675        7.658171   9.344286             394103           0.031370   \n",
              "676        8.923151  12.880887             394103           0.031370   \n",
              "\n",
              "     poblacion_total  porcentaje_operados  \n",
              "0      228037.000000             0.011057  \n",
              "1      228037.000000             0.014590  \n",
              "2      228037.000000             0.011266  \n",
              "3      228037.000000             0.011019  \n",
              "4      240938.509024             0.024904  \n",
              "..               ...                  ...  \n",
              "672    504573.441537             0.004237  \n",
              "673    504573.441537             0.052767  \n",
              "674    520401.714037             0.011885  \n",
              "675    520401.714037             0.010609  \n",
              "676    520401.714037             0.017361  \n",
              "\n",
              "[677 rows x 12 columns]"
            ],
            "text/html": [
              "\n",
              "  <div id=\"df-2e064d93-6c69-4822-aae6-472944e2722e\" class=\"colab-df-container\">\n",
              "    <div>\n",
              "<style scoped>\n",
              "    .dataframe tbody tr th:only-of-type {\n",
              "        vertical-align: middle;\n",
              "    }\n",
              "\n",
              "    .dataframe tbody tr th {\n",
              "        vertical-align: top;\n",
              "    }\n",
              "\n",
              "    .dataframe thead th {\n",
              "        text-align: right;\n",
              "    }\n",
              "</style>\n",
              "<table border=\"1\" class=\"dataframe\">\n",
              "  <thead>\n",
              "    <tr style=\"text-align: right;\">\n",
              "      <th></th>\n",
              "      <th>ciudad</th>\n",
              "      <th>year</th>\n",
              "      <th>prestador</th>\n",
              "      <th>num_operados</th>\n",
              "      <th>tecnologia_alta</th>\n",
              "      <th>infraestructura</th>\n",
              "      <th>puntaje_doctor</th>\n",
              "      <th>precio</th>\n",
              "      <th>poblacion_inicial</th>\n",
              "      <th>crecimiento_anual</th>\n",
              "      <th>poblacion_total</th>\n",
              "      <th>porcentaje_operados</th>\n",
              "    </tr>\n",
              "  </thead>\n",
              "  <tbody>\n",
              "    <tr>\n",
              "      <th>0</th>\n",
              "      <td>1</td>\n",
              "      <td>2001</td>\n",
              "      <td>Clinica_B</td>\n",
              "      <td>2521.478838</td>\n",
              "      <td>0</td>\n",
              "      <td>6.993077</td>\n",
              "      <td>6.820721</td>\n",
              "      <td>9.458984</td>\n",
              "      <td>228037</td>\n",
              "      <td>0.056576</td>\n",
              "      <td>228037.000000</td>\n",
              "      <td>0.011057</td>\n",
              "    </tr>\n",
              "    <tr>\n",
              "      <th>1</th>\n",
              "      <td>1</td>\n",
              "      <td>2001</td>\n",
              "      <td>Clinica_A</td>\n",
              "      <td>3327.113736</td>\n",
              "      <td>0</td>\n",
              "      <td>8.313865</td>\n",
              "      <td>8.516229</td>\n",
              "      <td>10.584837</td>\n",
              "      <td>228037</td>\n",
              "      <td>0.056576</td>\n",
              "      <td>228037.000000</td>\n",
              "      <td>0.014590</td>\n",
              "    </tr>\n",
              "    <tr>\n",
              "      <th>2</th>\n",
              "      <td>1</td>\n",
              "      <td>2001</td>\n",
              "      <td>Clinica_C</td>\n",
              "      <td>2569.037947</td>\n",
              "      <td>0</td>\n",
              "      <td>5.452967</td>\n",
              "      <td>6.444618</td>\n",
              "      <td>9.180535</td>\n",
              "      <td>228037</td>\n",
              "      <td>0.056576</td>\n",
              "      <td>228037.000000</td>\n",
              "      <td>0.011266</td>\n",
              "    </tr>\n",
              "    <tr>\n",
              "      <th>3</th>\n",
              "      <td>1</td>\n",
              "      <td>2001</td>\n",
              "      <td>Publico</td>\n",
              "      <td>2512.660532</td>\n",
              "      <td>0</td>\n",
              "      <td>5.367397</td>\n",
              "      <td>8.169181</td>\n",
              "      <td>10.166758</td>\n",
              "      <td>228037</td>\n",
              "      <td>0.056576</td>\n",
              "      <td>228037.000000</td>\n",
              "      <td>0.011019</td>\n",
              "    </tr>\n",
              "    <tr>\n",
              "      <th>4</th>\n",
              "      <td>1</td>\n",
              "      <td>2002</td>\n",
              "      <td>Clinica_A</td>\n",
              "      <td>6000.304696</td>\n",
              "      <td>0</td>\n",
              "      <td>8.743796</td>\n",
              "      <td>8.838369</td>\n",
              "      <td>10.384828</td>\n",
              "      <td>228037</td>\n",
              "      <td>0.056576</td>\n",
              "      <td>240938.509024</td>\n",
              "      <td>0.024904</td>\n",
              "    </tr>\n",
              "    <tr>\n",
              "      <th>...</th>\n",
              "      <td>...</td>\n",
              "      <td>...</td>\n",
              "      <td>...</td>\n",
              "      <td>...</td>\n",
              "      <td>...</td>\n",
              "      <td>...</td>\n",
              "      <td>...</td>\n",
              "      <td>...</td>\n",
              "      <td>...</td>\n",
              "      <td>...</td>\n",
              "      <td>...</td>\n",
              "      <td>...</td>\n",
              "    </tr>\n",
              "    <tr>\n",
              "      <th>672</th>\n",
              "      <td>20</td>\n",
              "      <td>2009</td>\n",
              "      <td>Publico</td>\n",
              "      <td>2138.036168</td>\n",
              "      <td>0</td>\n",
              "      <td>5.747862</td>\n",
              "      <td>7.807999</td>\n",
              "      <td>10.397965</td>\n",
              "      <td>394103</td>\n",
              "      <td>0.031370</td>\n",
              "      <td>504573.441537</td>\n",
              "      <td>0.004237</td>\n",
              "    </tr>\n",
              "    <tr>\n",
              "      <th>673</th>\n",
              "      <td>20</td>\n",
              "      <td>2009</td>\n",
              "      <td>Clinica_A</td>\n",
              "      <td>26625.029037</td>\n",
              "      <td>1</td>\n",
              "      <td>7.966443</td>\n",
              "      <td>8.677398</td>\n",
              "      <td>11.878463</td>\n",
              "      <td>394103</td>\n",
              "      <td>0.031370</td>\n",
              "      <td>504573.441537</td>\n",
              "      <td>0.052767</td>\n",
              "    </tr>\n",
              "    <tr>\n",
              "      <th>674</th>\n",
              "      <td>20</td>\n",
              "      <td>2010</td>\n",
              "      <td>Clinica_C</td>\n",
              "      <td>6184.974853</td>\n",
              "      <td>0</td>\n",
              "      <td>6.356885</td>\n",
              "      <td>5.956945</td>\n",
              "      <td>8.429723</td>\n",
              "      <td>394103</td>\n",
              "      <td>0.031370</td>\n",
              "      <td>520401.714037</td>\n",
              "      <td>0.011885</td>\n",
              "    </tr>\n",
              "    <tr>\n",
              "      <th>675</th>\n",
              "      <td>20</td>\n",
              "      <td>2010</td>\n",
              "      <td>Publico</td>\n",
              "      <td>5521.168999</td>\n",
              "      <td>0</td>\n",
              "      <td>5.660949</td>\n",
              "      <td>7.658171</td>\n",
              "      <td>9.344286</td>\n",
              "      <td>394103</td>\n",
              "      <td>0.031370</td>\n",
              "      <td>520401.714037</td>\n",
              "      <td>0.010609</td>\n",
              "    </tr>\n",
              "    <tr>\n",
              "      <th>676</th>\n",
              "      <td>20</td>\n",
              "      <td>2010</td>\n",
              "      <td>Clinica_A</td>\n",
              "      <td>9034.773054</td>\n",
              "      <td>1</td>\n",
              "      <td>7.448908</td>\n",
              "      <td>8.923151</td>\n",
              "      <td>12.880887</td>\n",
              "      <td>394103</td>\n",
              "      <td>0.031370</td>\n",
              "      <td>520401.714037</td>\n",
              "      <td>0.017361</td>\n",
              "    </tr>\n",
              "  </tbody>\n",
              "</table>\n",
              "<p>677 rows × 12 columns</p>\n",
              "</div>\n",
              "    <div class=\"colab-df-buttons\">\n",
              "\n",
              "  <div class=\"colab-df-container\">\n",
              "    <button class=\"colab-df-convert\" onclick=\"convertToInteractive('df-2e064d93-6c69-4822-aae6-472944e2722e')\"\n",
              "            title=\"Convert this dataframe to an interactive table.\"\n",
              "            style=\"display:none;\">\n",
              "\n",
              "  <svg xmlns=\"http://www.w3.org/2000/svg\" height=\"24px\" viewBox=\"0 -960 960 960\">\n",
              "    <path d=\"M120-120v-720h720v720H120Zm60-500h600v-160H180v160Zm220 220h160v-160H400v160Zm0 220h160v-160H400v160ZM180-400h160v-160H180v160Zm440 0h160v-160H620v160ZM180-180h160v-160H180v160Zm440 0h160v-160H620v160Z\"/>\n",
              "  </svg>\n",
              "    </button>\n",
              "\n",
              "  <style>\n",
              "    .colab-df-container {\n",
              "      display:flex;\n",
              "      gap: 12px;\n",
              "    }\n",
              "\n",
              "    .colab-df-convert {\n",
              "      background-color: #E8F0FE;\n",
              "      border: none;\n",
              "      border-radius: 50%;\n",
              "      cursor: pointer;\n",
              "      display: none;\n",
              "      fill: #1967D2;\n",
              "      height: 32px;\n",
              "      padding: 0 0 0 0;\n",
              "      width: 32px;\n",
              "    }\n",
              "\n",
              "    .colab-df-convert:hover {\n",
              "      background-color: #E2EBFA;\n",
              "      box-shadow: 0px 1px 2px rgba(60, 64, 67, 0.3), 0px 1px 3px 1px rgba(60, 64, 67, 0.15);\n",
              "      fill: #174EA6;\n",
              "    }\n",
              "\n",
              "    .colab-df-buttons div {\n",
              "      margin-bottom: 4px;\n",
              "    }\n",
              "\n",
              "    [theme=dark] .colab-df-convert {\n",
              "      background-color: #3B4455;\n",
              "      fill: #D2E3FC;\n",
              "    }\n",
              "\n",
              "    [theme=dark] .colab-df-convert:hover {\n",
              "      background-color: #434B5C;\n",
              "      box-shadow: 0px 1px 3px 1px rgba(0, 0, 0, 0.15);\n",
              "      filter: drop-shadow(0px 1px 2px rgba(0, 0, 0, 0.3));\n",
              "      fill: #FFFFFF;\n",
              "    }\n",
              "  </style>\n",
              "\n",
              "    <script>\n",
              "      const buttonEl =\n",
              "        document.querySelector('#df-2e064d93-6c69-4822-aae6-472944e2722e button.colab-df-convert');\n",
              "      buttonEl.style.display =\n",
              "        google.colab.kernel.accessAllowed ? 'block' : 'none';\n",
              "\n",
              "      async function convertToInteractive(key) {\n",
              "        const element = document.querySelector('#df-2e064d93-6c69-4822-aae6-472944e2722e');\n",
              "        const dataTable =\n",
              "          await google.colab.kernel.invokeFunction('convertToInteractive',\n",
              "                                                    [key], {});\n",
              "        if (!dataTable) return;\n",
              "\n",
              "        const docLinkHtml = 'Like what you see? Visit the ' +\n",
              "          '<a target=\"_blank\" href=https://colab.research.google.com/notebooks/data_table.ipynb>data table notebook</a>'\n",
              "          + ' to learn more about interactive tables.';\n",
              "        element.innerHTML = '';\n",
              "        dataTable['output_type'] = 'display_data';\n",
              "        await google.colab.output.renderOutput(dataTable, element);\n",
              "        const docLink = document.createElement('div');\n",
              "        docLink.innerHTML = docLinkHtml;\n",
              "        element.appendChild(docLink);\n",
              "      }\n",
              "    </script>\n",
              "  </div>\n",
              "\n",
              "\n",
              "    <div id=\"df-23a70316-0de4-43ca-9da3-c4e24c0d3e7a\">\n",
              "      <button class=\"colab-df-quickchart\" onclick=\"quickchart('df-23a70316-0de4-43ca-9da3-c4e24c0d3e7a')\"\n",
              "                title=\"Suggest charts\"\n",
              "                style=\"display:none;\">\n",
              "\n",
              "<svg xmlns=\"http://www.w3.org/2000/svg\" height=\"24px\"viewBox=\"0 0 24 24\"\n",
              "     width=\"24px\">\n",
              "    <g>\n",
              "        <path d=\"M19 3H5c-1.1 0-2 .9-2 2v14c0 1.1.9 2 2 2h14c1.1 0 2-.9 2-2V5c0-1.1-.9-2-2-2zM9 17H7v-7h2v7zm4 0h-2V7h2v10zm4 0h-2v-4h2v4z\"/>\n",
              "    </g>\n",
              "</svg>\n",
              "      </button>\n",
              "\n",
              "<style>\n",
              "  .colab-df-quickchart {\n",
              "      --bg-color: #E8F0FE;\n",
              "      --fill-color: #1967D2;\n",
              "      --hover-bg-color: #E2EBFA;\n",
              "      --hover-fill-color: #174EA6;\n",
              "      --disabled-fill-color: #AAA;\n",
              "      --disabled-bg-color: #DDD;\n",
              "  }\n",
              "\n",
              "  [theme=dark] .colab-df-quickchart {\n",
              "      --bg-color: #3B4455;\n",
              "      --fill-color: #D2E3FC;\n",
              "      --hover-bg-color: #434B5C;\n",
              "      --hover-fill-color: #FFFFFF;\n",
              "      --disabled-bg-color: #3B4455;\n",
              "      --disabled-fill-color: #666;\n",
              "  }\n",
              "\n",
              "  .colab-df-quickchart {\n",
              "    background-color: var(--bg-color);\n",
              "    border: none;\n",
              "    border-radius: 50%;\n",
              "    cursor: pointer;\n",
              "    display: none;\n",
              "    fill: var(--fill-color);\n",
              "    height: 32px;\n",
              "    padding: 0;\n",
              "    width: 32px;\n",
              "  }\n",
              "\n",
              "  .colab-df-quickchart:hover {\n",
              "    background-color: var(--hover-bg-color);\n",
              "    box-shadow: 0 1px 2px rgba(60, 64, 67, 0.3), 0 1px 3px 1px rgba(60, 64, 67, 0.15);\n",
              "    fill: var(--button-hover-fill-color);\n",
              "  }\n",
              "\n",
              "  .colab-df-quickchart-complete:disabled,\n",
              "  .colab-df-quickchart-complete:disabled:hover {\n",
              "    background-color: var(--disabled-bg-color);\n",
              "    fill: var(--disabled-fill-color);\n",
              "    box-shadow: none;\n",
              "  }\n",
              "\n",
              "  .colab-df-spinner {\n",
              "    border: 2px solid var(--fill-color);\n",
              "    border-color: transparent;\n",
              "    border-bottom-color: var(--fill-color);\n",
              "    animation:\n",
              "      spin 1s steps(1) infinite;\n",
              "  }\n",
              "\n",
              "  @keyframes spin {\n",
              "    0% {\n",
              "      border-color: transparent;\n",
              "      border-bottom-color: var(--fill-color);\n",
              "      border-left-color: var(--fill-color);\n",
              "    }\n",
              "    20% {\n",
              "      border-color: transparent;\n",
              "      border-left-color: var(--fill-color);\n",
              "      border-top-color: var(--fill-color);\n",
              "    }\n",
              "    30% {\n",
              "      border-color: transparent;\n",
              "      border-left-color: var(--fill-color);\n",
              "      border-top-color: var(--fill-color);\n",
              "      border-right-color: var(--fill-color);\n",
              "    }\n",
              "    40% {\n",
              "      border-color: transparent;\n",
              "      border-right-color: var(--fill-color);\n",
              "      border-top-color: var(--fill-color);\n",
              "    }\n",
              "    60% {\n",
              "      border-color: transparent;\n",
              "      border-right-color: var(--fill-color);\n",
              "    }\n",
              "    80% {\n",
              "      border-color: transparent;\n",
              "      border-right-color: var(--fill-color);\n",
              "      border-bottom-color: var(--fill-color);\n",
              "    }\n",
              "    90% {\n",
              "      border-color: transparent;\n",
              "      border-bottom-color: var(--fill-color);\n",
              "    }\n",
              "  }\n",
              "</style>\n",
              "\n",
              "      <script>\n",
              "        async function quickchart(key) {\n",
              "          const quickchartButtonEl =\n",
              "            document.querySelector('#' + key + ' button');\n",
              "          quickchartButtonEl.disabled = true;  // To prevent multiple clicks.\n",
              "          quickchartButtonEl.classList.add('colab-df-spinner');\n",
              "          try {\n",
              "            const charts = await google.colab.kernel.invokeFunction(\n",
              "                'suggestCharts', [key], {});\n",
              "          } catch (error) {\n",
              "            console.error('Error during call to suggestCharts:', error);\n",
              "          }\n",
              "          quickchartButtonEl.classList.remove('colab-df-spinner');\n",
              "          quickchartButtonEl.classList.add('colab-df-quickchart-complete');\n",
              "        }\n",
              "        (() => {\n",
              "          let quickchartButtonEl =\n",
              "            document.querySelector('#df-23a70316-0de4-43ca-9da3-c4e24c0d3e7a button');\n",
              "          quickchartButtonEl.style.display =\n",
              "            google.colab.kernel.accessAllowed ? 'block' : 'none';\n",
              "        })();\n",
              "      </script>\n",
              "    </div>\n",
              "\n",
              "  <div id=\"id_6d63070f-f520-4882-acdb-8854b60a5a09\">\n",
              "    <style>\n",
              "      .colab-df-generate {\n",
              "        background-color: #E8F0FE;\n",
              "        border: none;\n",
              "        border-radius: 50%;\n",
              "        cursor: pointer;\n",
              "        display: none;\n",
              "        fill: #1967D2;\n",
              "        height: 32px;\n",
              "        padding: 0 0 0 0;\n",
              "        width: 32px;\n",
              "      }\n",
              "\n",
              "      .colab-df-generate:hover {\n",
              "        background-color: #E2EBFA;\n",
              "        box-shadow: 0px 1px 2px rgba(60, 64, 67, 0.3), 0px 1px 3px 1px rgba(60, 64, 67, 0.15);\n",
              "        fill: #174EA6;\n",
              "      }\n",
              "\n",
              "      [theme=dark] .colab-df-generate {\n",
              "        background-color: #3B4455;\n",
              "        fill: #D2E3FC;\n",
              "      }\n",
              "\n",
              "      [theme=dark] .colab-df-generate:hover {\n",
              "        background-color: #434B5C;\n",
              "        box-shadow: 0px 1px 3px 1px rgba(0, 0, 0, 0.15);\n",
              "        filter: drop-shadow(0px 1px 2px rgba(0, 0, 0, 0.3));\n",
              "        fill: #FFFFFF;\n",
              "      }\n",
              "    </style>\n",
              "    <button class=\"colab-df-generate\" onclick=\"generateWithVariable('df')\"\n",
              "            title=\"Generate code using this dataframe.\"\n",
              "            style=\"display:none;\">\n",
              "\n",
              "  <svg xmlns=\"http://www.w3.org/2000/svg\" height=\"24px\"viewBox=\"0 0 24 24\"\n",
              "       width=\"24px\">\n",
              "    <path d=\"M7,19H8.4L18.45,9,17,7.55,7,17.6ZM5,21V16.75L18.45,3.32a2,2,0,0,1,2.83,0l1.4,1.43a1.91,1.91,0,0,1,.58,1.4,1.91,1.91,0,0,1-.58,1.4L9.25,21ZM18.45,9,17,7.55Zm-12,3A5.31,5.31,0,0,0,4.9,8.1,5.31,5.31,0,0,0,1,6.5,5.31,5.31,0,0,0,4.9,4.9,5.31,5.31,0,0,0,6.5,1,5.31,5.31,0,0,0,8.1,4.9,5.31,5.31,0,0,0,12,6.5,5.46,5.46,0,0,0,6.5,12Z\"/>\n",
              "  </svg>\n",
              "    </button>\n",
              "    <script>\n",
              "      (() => {\n",
              "      const buttonEl =\n",
              "        document.querySelector('#id_6d63070f-f520-4882-acdb-8854b60a5a09 button.colab-df-generate');\n",
              "      buttonEl.style.display =\n",
              "        google.colab.kernel.accessAllowed ? 'block' : 'none';\n",
              "\n",
              "      buttonEl.onclick = () => {\n",
              "        google.colab.notebook.generateWithVariable('df');\n",
              "      }\n",
              "      })();\n",
              "    </script>\n",
              "  </div>\n",
              "\n",
              "    </div>\n",
              "  </div>\n"
            ],
            "application/vnd.google.colaboratory.intrinsic+json": {
              "type": "dataframe",
              "variable_name": "df",
              "summary": "{\n  \"name\": \"df\",\n  \"rows\": 677,\n  \"fields\": [\n    {\n      \"column\": \"ciudad\",\n      \"properties\": {\n        \"dtype\": \"number\",\n        \"std\": 5,\n        \"min\": 1,\n        \"max\": 20,\n        \"num_unique_values\": 20,\n        \"samples\": [\n          1,\n          18,\n          16\n        ],\n        \"semantic_type\": \"\",\n        \"description\": \"\"\n      }\n    },\n    {\n      \"column\": \"year\",\n      \"properties\": {\n        \"dtype\": \"number\",\n        \"std\": 2,\n        \"min\": 2001,\n        \"max\": 2010,\n        \"num_unique_values\": 10,\n        \"samples\": [\n          2009,\n          2002,\n          2006\n        ],\n        \"semantic_type\": \"\",\n        \"description\": \"\"\n      }\n    },\n    {\n      \"column\": \"prestador\",\n      \"properties\": {\n        \"dtype\": \"category\",\n        \"num_unique_values\": 4,\n        \"samples\": [\n          \"Clinica_A\",\n          \"Publico\",\n          \"Clinica_B\"\n        ],\n        \"semantic_type\": \"\",\n        \"description\": \"\"\n      }\n    },\n    {\n      \"column\": \"num_operados\",\n      \"properties\": {\n        \"dtype\": \"number\",\n        \"std\": 7287.297867242368,\n        \"min\": 351.689998605078,\n        \"max\": 74406.27541627127,\n        \"num_unique_values\": 677,\n        \"samples\": [\n          3333.280291568431,\n          19918.67010413255,\n          4500.0323144636\n        ],\n        \"semantic_type\": \"\",\n        \"description\": \"\"\n      }\n    },\n    {\n      \"column\": \"tecnologia_alta\",\n      \"properties\": {\n        \"dtype\": \"number\",\n        \"std\": 0,\n        \"min\": 0,\n        \"max\": 1,\n        \"num_unique_values\": 2,\n        \"samples\": [\n          1,\n          0\n        ],\n        \"semantic_type\": \"\",\n        \"description\": \"\"\n      }\n    },\n    {\n      \"column\": \"infraestructura\",\n      \"properties\": {\n        \"dtype\": \"number\",\n        \"std\": 0.9745642321389595,\n        \"min\": 4.460352681007697,\n        \"max\": 9.023304533406288,\n        \"num_unique_values\": 677,\n        \"samples\": [\n          5.85978735627216,\n          7.85688956507079\n        ],\n        \"semantic_type\": \"\",\n        \"description\": \"\"\n      }\n    },\n    {\n      \"column\": \"puntaje_doctor\",\n      \"properties\": {\n        \"dtype\": \"number\",\n        \"std\": 1.116191186248746,\n        \"min\": 4.697804890095798,\n        \"max\": 9.960190451422527,\n        \"num_unique_values\": 677,\n        \"samples\": [\n          5.528352173229524,\n          8.098855588047249\n        ],\n        \"semantic_type\": \"\",\n        \"description\": \"\"\n      }\n    },\n    {\n      \"column\": \"precio\",\n      \"properties\": {\n        \"dtype\": \"number\",\n        \"std\": 1.244040766464674,\n        \"min\": 7.062668914564622,\n        \"max\": 13.65844841584444,\n        \"num_unique_values\": 677,\n        \"samples\": [\n          9.046068214658876,\n          11.53842987818477\n        ],\n        \"semantic_type\": \"\",\n        \"description\": \"\"\n      }\n    },\n    {\n      \"column\": \"poblacion_inicial\",\n      \"properties\": {\n        \"dtype\": \"number\",\n        \"std\": 107141,\n        \"min\": 121440,\n        \"max\": 471403,\n        \"num_unique_values\": 20,\n        \"samples\": [\n          228037,\n          346322\n        ],\n        \"semantic_type\": \"\",\n        \"description\": \"\"\n      }\n    },\n    {\n      \"column\": \"crecimiento_anual\",\n      \"properties\": {\n        \"dtype\": \"number\",\n        \"std\": 0.021911366550439102,\n        \"min\": 0.02473945610412508,\n        \"max\": 0.09513022315389007,\n        \"num_unique_values\": 20,\n        \"samples\": [\n          0.05657638463895906,\n          0.03580407183878249\n        ],\n        \"semantic_type\": \"\",\n        \"description\": \"\"\n      }\n    },\n    {\n      \"column\": \"poblacion_total\",\n      \"properties\": {\n        \"dtype\": \"number\",\n        \"std\": 180753.9864588849,\n        \"min\": 121440.0,\n        \"max\": 960322.350789784,\n        \"num_unique_values\": 200,\n        \"samples\": [\n          404403.1941813759,\n          478856.6999721757\n        ],\n        \"semantic_type\": \"\",\n        \"description\": \"\"\n      }\n    },\n    {\n      \"column\": \"porcentaje_operados\",\n      \"properties\": {\n        \"dtype\": \"number\",\n        \"std\": 0.013480469527976892,\n        \"min\": 0.0011910547147857117,\n        \"max\": 0.10822645771473068,\n        \"num_unique_values\": 677,\n        \"samples\": [\n          0.008457891189786505,\n          0.04534018499836632\n        ],\n        \"semantic_type\": \"\",\n        \"description\": \"\"\n      }\n    }\n  ]\n}"
            }
          },
          "metadata": {},
          "execution_count": 2
        }
      ]
    },
    {
      "cell_type": "markdown",
      "source": [
        "**Tablas de estadísticas**"
      ],
      "metadata": {
        "id": "UpHR8XEHI4si"
      }
    },
    {
      "cell_type": "code",
      "source": [
        "#resumen de estadisticas\n",
        "estadisticas = df.groupby(\"prestador\").describe().round(2)\n",
        "estadisticas.columns = ['_'.join(col).strip() for col in estadisticas.columns]\n",
        "estadisticas.reset_index(inplace=True)\n",
        "\n",
        "estadisticas_ciudad = df.groupby(\"ciudad\").describe().round(2)\n",
        "estadisticas_ciudad.columns = ['_'.join(col).strip() for col in estadisticas_ciudad.columns]\n",
        "estadisticas_ciudad.reset_index(inplace=True)\n",
        "\n",
        "media_ciudad = df.groupby(\"ciudad\").mean(numeric_only=True).round(2).reset_index()\n",
        "\n",
        "latex_ciudad = media_ciudad.to_latex(index=False, caption=\"Media por ciudad\", label=\"tab:media_ciudad\")\n",
        "with open(\"media_ciudad.tex\", \"w\") as f:\n",
        "    f.write(latex_ciudad)\n",
        "files.download(\"media_ciudad.tex\")\n",
        "\n",
        "moda_ciudad = df.groupby('prestador')['ciudad'].agg(lambda x: x.mode().iloc[0]).reset_index()\n",
        "moda_ciudad.columns = ['prestador', 'ciudad_moda']\n",
        "\n",
        "latex_moda = moda_ciudad.to_latex(index=False, caption=\"Ciudad más frecuente por prestador\", label=\"tab:moda_ciudad\")\n",
        "with open(\"moda_ciudad.tex\", \"w\") as f:\n",
        "    f.write(latex_moda)\n",
        "files.download(\"moda_ciudad.tex\")\n",
        "\n",
        "\n"
      ],
      "metadata": {
        "colab": {
          "base_uri": "https://localhost:8080/",
          "height": 17
        },
        "id": "mD9_NutJJo6T",
        "outputId": "af0d89e5-bc86-49b5-e9ba-826b64f7c43d"
      },
      "execution_count": 3,
      "outputs": [
        {
          "output_type": "display_data",
          "data": {
            "text/plain": [
              "<IPython.core.display.Javascript object>"
            ],
            "application/javascript": [
              "\n",
              "    async function download(id, filename, size) {\n",
              "      if (!google.colab.kernel.accessAllowed) {\n",
              "        return;\n",
              "      }\n",
              "      const div = document.createElement('div');\n",
              "      const label = document.createElement('label');\n",
              "      label.textContent = `Downloading \"${filename}\": `;\n",
              "      div.appendChild(label);\n",
              "      const progress = document.createElement('progress');\n",
              "      progress.max = size;\n",
              "      div.appendChild(progress);\n",
              "      document.body.appendChild(div);\n",
              "\n",
              "      const buffers = [];\n",
              "      let downloaded = 0;\n",
              "\n",
              "      const channel = await google.colab.kernel.comms.open(id);\n",
              "      // Send a message to notify the kernel that we're ready.\n",
              "      channel.send({})\n",
              "\n",
              "      for await (const message of channel.messages) {\n",
              "        // Send a message to notify the kernel that we're ready.\n",
              "        channel.send({})\n",
              "        if (message.buffers) {\n",
              "          for (const buffer of message.buffers) {\n",
              "            buffers.push(buffer);\n",
              "            downloaded += buffer.byteLength;\n",
              "            progress.value = downloaded;\n",
              "          }\n",
              "        }\n",
              "      }\n",
              "      const blob = new Blob(buffers, {type: 'application/binary'});\n",
              "      const a = document.createElement('a');\n",
              "      a.href = window.URL.createObjectURL(blob);\n",
              "      a.download = filename;\n",
              "      div.appendChild(a);\n",
              "      a.click();\n",
              "      div.remove();\n",
              "    }\n",
              "  "
            ]
          },
          "metadata": {}
        },
        {
          "output_type": "display_data",
          "data": {
            "text/plain": [
              "<IPython.core.display.Javascript object>"
            ],
            "application/javascript": [
              "download(\"download_7ee2b0dd-b157-4524-8860-b1160bb3021f\", \"media_ciudad.tex\", 2970)"
            ]
          },
          "metadata": {}
        },
        {
          "output_type": "display_data",
          "data": {
            "text/plain": [
              "<IPython.core.display.Javascript object>"
            ],
            "application/javascript": [
              "\n",
              "    async function download(id, filename, size) {\n",
              "      if (!google.colab.kernel.accessAllowed) {\n",
              "        return;\n",
              "      }\n",
              "      const div = document.createElement('div');\n",
              "      const label = document.createElement('label');\n",
              "      label.textContent = `Downloading \"${filename}\": `;\n",
              "      div.appendChild(label);\n",
              "      const progress = document.createElement('progress');\n",
              "      progress.max = size;\n",
              "      div.appendChild(progress);\n",
              "      document.body.appendChild(div);\n",
              "\n",
              "      const buffers = [];\n",
              "      let downloaded = 0;\n",
              "\n",
              "      const channel = await google.colab.kernel.comms.open(id);\n",
              "      // Send a message to notify the kernel that we're ready.\n",
              "      channel.send({})\n",
              "\n",
              "      for await (const message of channel.messages) {\n",
              "        // Send a message to notify the kernel that we're ready.\n",
              "        channel.send({})\n",
              "        if (message.buffers) {\n",
              "          for (const buffer of message.buffers) {\n",
              "            buffers.push(buffer);\n",
              "            downloaded += buffer.byteLength;\n",
              "            progress.value = downloaded;\n",
              "          }\n",
              "        }\n",
              "      }\n",
              "      const blob = new Blob(buffers, {type: 'application/binary'});\n",
              "      const a = document.createElement('a');\n",
              "      a.href = window.URL.createObjectURL(blob);\n",
              "      a.download = filename;\n",
              "      div.appendChild(a);\n",
              "      a.click();\n",
              "      div.remove();\n",
              "    }\n",
              "  "
            ]
          },
          "metadata": {}
        },
        {
          "output_type": "display_data",
          "data": {
            "text/plain": [
              "<IPython.core.display.Javascript object>"
            ],
            "application/javascript": [
              "download(\"download_52dc30dd-48dc-4382-a4fb-c96e200f9b5a\", \"moda_ciudad.tex\", 253)"
            ]
          },
          "metadata": {}
        }
      ]
    },
    {
      "cell_type": "code",
      "source": [
        "moda_prestador = df.groupby('ciudad')['prestador'].agg(lambda x: x.mode().iloc[0]).reset_index()\n",
        "moda_prestador.columns = ['ciudad', 'prestador_moda']\n",
        "\n",
        "# Exportar a LaTeX\n",
        "latex_moda_prestador = moda_prestador.to_latex(index=False, caption=\"Prestador más frecuente por ciudad\", label=\"tab:moda_prestador_ciudad\")\n",
        "with open(\"moda_prestador_ciudad.tex\", \"w\") as f:\n",
        "    f.write(latex_moda_prestador)\n",
        "files.download(\"moda_prestador_ciudad.tex\")"
      ],
      "metadata": {
        "id": "kOS3Tl8GCNQa",
        "outputId": "e53b8d94-20c8-4c95-aeef-6f7343d6416b",
        "colab": {
          "base_uri": "https://localhost:8080/",
          "height": 17
        }
      },
      "execution_count": 4,
      "outputs": [
        {
          "output_type": "display_data",
          "data": {
            "text/plain": [
              "<IPython.core.display.Javascript object>"
            ],
            "application/javascript": [
              "\n",
              "    async function download(id, filename, size) {\n",
              "      if (!google.colab.kernel.accessAllowed) {\n",
              "        return;\n",
              "      }\n",
              "      const div = document.createElement('div');\n",
              "      const label = document.createElement('label');\n",
              "      label.textContent = `Downloading \"${filename}\": `;\n",
              "      div.appendChild(label);\n",
              "      const progress = document.createElement('progress');\n",
              "      progress.max = size;\n",
              "      div.appendChild(progress);\n",
              "      document.body.appendChild(div);\n",
              "\n",
              "      const buffers = [];\n",
              "      let downloaded = 0;\n",
              "\n",
              "      const channel = await google.colab.kernel.comms.open(id);\n",
              "      // Send a message to notify the kernel that we're ready.\n",
              "      channel.send({})\n",
              "\n",
              "      for await (const message of channel.messages) {\n",
              "        // Send a message to notify the kernel that we're ready.\n",
              "        channel.send({})\n",
              "        if (message.buffers) {\n",
              "          for (const buffer of message.buffers) {\n",
              "            buffers.push(buffer);\n",
              "            downloaded += buffer.byteLength;\n",
              "            progress.value = downloaded;\n",
              "          }\n",
              "        }\n",
              "      }\n",
              "      const blob = new Blob(buffers, {type: 'application/binary'});\n",
              "      const a = document.createElement('a');\n",
              "      a.href = window.URL.createObjectURL(blob);\n",
              "      a.download = filename;\n",
              "      div.appendChild(a);\n",
              "      a.click();\n",
              "      div.remove();\n",
              "    }\n",
              "  "
            ]
          },
          "metadata": {}
        },
        {
          "output_type": "display_data",
          "data": {
            "text/plain": [
              "<IPython.core.display.Javascript object>"
            ],
            "application/javascript": [
              "download(\"download_d7c323ff-22e5-49d5-9571-641aeb6443a9\", \"moda_prestador_ciudad.tex\", 548)"
            ]
          },
          "metadata": {}
        }
      ]
    },
    {
      "cell_type": "code",
      "source": [
        "promedio_por_anio = df.groupby(\"year\")[\"porcentaje_operados\"].mean().reset_index()\n",
        "promedio_por_anio.columns = [\"año\", \"porcentaje_operados_promedio\"]\n",
        "promedio_por_anio[\"porcentaje_operados_promedio\"] = (promedio_por_anio[\"porcentaje_operados_promedio\"] * 100).round(2)\n",
        "\n",
        "# Exportar a LaTeX\n",
        "latex_promedio = promedio_por_anio.to_latex(index=False, caption=\"Porcentaje promedio de operados por año\", label=\"tab:promedio_operados_anio\")\n",
        "with open(\"porcentaje_promedio_operados_anio.tex\", \"w\") as f:\n",
        "    f.write(latex_promedio)\n",
        "files.download(\"porcentaje_promedio_operados_anio.tex\")"
      ],
      "metadata": {
        "id": "WIuSNG7HHZ1Q",
        "outputId": "454daef2-6b4a-4f61-863f-40ef71ce9a91",
        "colab": {
          "base_uri": "https://localhost:8080/",
          "height": 17
        }
      },
      "execution_count": 5,
      "outputs": [
        {
          "output_type": "display_data",
          "data": {
            "text/plain": [
              "<IPython.core.display.Javascript object>"
            ],
            "application/javascript": [
              "\n",
              "    async function download(id, filename, size) {\n",
              "      if (!google.colab.kernel.accessAllowed) {\n",
              "        return;\n",
              "      }\n",
              "      const div = document.createElement('div');\n",
              "      const label = document.createElement('label');\n",
              "      label.textContent = `Downloading \"${filename}\": `;\n",
              "      div.appendChild(label);\n",
              "      const progress = document.createElement('progress');\n",
              "      progress.max = size;\n",
              "      div.appendChild(progress);\n",
              "      document.body.appendChild(div);\n",
              "\n",
              "      const buffers = [];\n",
              "      let downloaded = 0;\n",
              "\n",
              "      const channel = await google.colab.kernel.comms.open(id);\n",
              "      // Send a message to notify the kernel that we're ready.\n",
              "      channel.send({})\n",
              "\n",
              "      for await (const message of channel.messages) {\n",
              "        // Send a message to notify the kernel that we're ready.\n",
              "        channel.send({})\n",
              "        if (message.buffers) {\n",
              "          for (const buffer of message.buffers) {\n",
              "            buffers.push(buffer);\n",
              "            downloaded += buffer.byteLength;\n",
              "            progress.value = downloaded;\n",
              "          }\n",
              "        }\n",
              "      }\n",
              "      const blob = new Blob(buffers, {type: 'application/binary'});\n",
              "      const a = document.createElement('a');\n",
              "      a.href = window.URL.createObjectURL(blob);\n",
              "      a.download = filename;\n",
              "      div.appendChild(a);\n",
              "      a.click();\n",
              "      div.remove();\n",
              "    }\n",
              "  "
            ]
          },
          "metadata": {}
        },
        {
          "output_type": "display_data",
          "data": {
            "text/plain": [
              "<IPython.core.display.Javascript object>"
            ],
            "application/javascript": [
              "download(\"download_130e15d1-0b40-4297-9cba-15935dbe6fc0\", \"porcentaje_promedio_operados_anio.tex\", 405)"
            ]
          },
          "metadata": {}
        }
      ]
    },
    {
      "cell_type": "code",
      "source": [
        "#resumen detallado utilizado en la tabla 1\n",
        "resumen = df.groupby(\"prestador\").agg(\n",
        "    precio_media=(\"precio\", \"mean\"),\n",
        "    precio_sd=(\"precio\", \"std\"),\n",
        "    precio_min=(\"precio\", \"min\"),\n",
        "    precio_max=(\"precio\", \"max\"),\n",
        "    infra_media=(\"infraestructura\", \"mean\"),\n",
        "    infra_sd=(\"infraestructura\", \"std\"),\n",
        "    infra_min=(\"infraestructura\", \"min\"),\n",
        "    infra_max=(\"infraestructura\", \"max\"),\n",
        "    ptje_media=(\"puntaje_doctor\", \"mean\"),\n",
        "    ptje_sd=(\"puntaje_doctor\", \"std\"),\n",
        "    ptje_min=(\"puntaje_doctor\", \"min\"),\n",
        "    ptje_max=(\"puntaje_doctor\", \"max\"),\n",
        "    tecnologia_media=(\"tecnologia_alta\", \"mean\"),\n",
        "    operados_total=(\"num_operados\", \"sum\")\n",
        ").round(2).reset_index()\n",
        "\n",
        "tabla_1 = resumen[[\"prestador\", \"precio_media\", \"precio_sd\", \"precio_min\", \"precio_max\",\n",
        "                   \"infra_media\", \"infra_sd\", \"infra_min\", \"infra_max\"]]\n",
        "tabla_2 = resumen[[\"prestador\", \"ptje_media\", \"ptje_sd\", \"ptje_min\", \"ptje_max\",\n",
        "                   \"tecnologia_media\", \"operados_total\"]]\n",
        "\n",
        "tabla_1.columns = [\"Prestador\", \"Precio Media\", \"Precio SD\", \"Precio Min\", \"Precio Max\",\n",
        "                   \"Infra Media\", \"Infra SD\", \"Infra Min\", \"Infra Max\"]\n",
        "tabla_2.columns = [\"Prestador\", \"Puntaje Media\", \"Puntaje SD\", \"Puntaje Min\", \"Puntaje Max\",\n",
        "                   \"Tecnología\", \"Operados\"]\n",
        "\n",
        "latex_tabla1 = tabla_1.to_latex(index=False, caption=\"Estadísticas descriptivas por prestador\", label=\"tab:resumen_prestadores\")\n",
        "latex_tabla2 = tabla_2.to_latex(index=False, caption=\"Estadísticas descriptivas complementarias\", label=\"tab:resumen_prestadores_complemento\")\n",
        "\n",
        "with open(\"resumen_prestadores_1.tex\", \"w\") as f1:\n",
        "    f1.write(latex_tabla1)\n",
        "files.download(\"resumen_prestadores_1.tex\")\n",
        "with open(\"resumen_prestadores_2.tex\", \"w\") as f2:\n",
        "    f2.write(latex_tabla2)\n",
        "files.download(\"resumen_prestadores_2.tex\")"
      ],
      "metadata": {
        "id": "aOHtVOtoKg-Q",
        "outputId": "b88ce6cf-c385-4250-dfad-0bed7c5dfe5c",
        "colab": {
          "base_uri": "https://localhost:8080/",
          "height": 17
        }
      },
      "execution_count": 6,
      "outputs": [
        {
          "output_type": "display_data",
          "data": {
            "text/plain": [
              "<IPython.core.display.Javascript object>"
            ],
            "application/javascript": [
              "\n",
              "    async function download(id, filename, size) {\n",
              "      if (!google.colab.kernel.accessAllowed) {\n",
              "        return;\n",
              "      }\n",
              "      const div = document.createElement('div');\n",
              "      const label = document.createElement('label');\n",
              "      label.textContent = `Downloading \"${filename}\": `;\n",
              "      div.appendChild(label);\n",
              "      const progress = document.createElement('progress');\n",
              "      progress.max = size;\n",
              "      div.appendChild(progress);\n",
              "      document.body.appendChild(div);\n",
              "\n",
              "      const buffers = [];\n",
              "      let downloaded = 0;\n",
              "\n",
              "      const channel = await google.colab.kernel.comms.open(id);\n",
              "      // Send a message to notify the kernel that we're ready.\n",
              "      channel.send({})\n",
              "\n",
              "      for await (const message of channel.messages) {\n",
              "        // Send a message to notify the kernel that we're ready.\n",
              "        channel.send({})\n",
              "        if (message.buffers) {\n",
              "          for (const buffer of message.buffers) {\n",
              "            buffers.push(buffer);\n",
              "            downloaded += buffer.byteLength;\n",
              "            progress.value = downloaded;\n",
              "          }\n",
              "        }\n",
              "      }\n",
              "      const blob = new Blob(buffers, {type: 'application/binary'});\n",
              "      const a = document.createElement('a');\n",
              "      a.href = window.URL.createObjectURL(blob);\n",
              "      a.download = filename;\n",
              "      div.appendChild(a);\n",
              "      a.click();\n",
              "      div.remove();\n",
              "    }\n",
              "  "
            ]
          },
          "metadata": {}
        },
        {
          "output_type": "display_data",
          "data": {
            "text/plain": [
              "<IPython.core.display.Javascript object>"
            ],
            "application/javascript": [
              "download(\"download_54ace39a-9a5b-45a5-9687-a6405b684f96\", \"resumen_prestadores_1.tex\", 704)"
            ]
          },
          "metadata": {}
        },
        {
          "output_type": "display_data",
          "data": {
            "text/plain": [
              "<IPython.core.display.Javascript object>"
            ],
            "application/javascript": [
              "\n",
              "    async function download(id, filename, size) {\n",
              "      if (!google.colab.kernel.accessAllowed) {\n",
              "        return;\n",
              "      }\n",
              "      const div = document.createElement('div');\n",
              "      const label = document.createElement('label');\n",
              "      label.textContent = `Downloading \"${filename}\": `;\n",
              "      div.appendChild(label);\n",
              "      const progress = document.createElement('progress');\n",
              "      progress.max = size;\n",
              "      div.appendChild(progress);\n",
              "      document.body.appendChild(div);\n",
              "\n",
              "      const buffers = [];\n",
              "      let downloaded = 0;\n",
              "\n",
              "      const channel = await google.colab.kernel.comms.open(id);\n",
              "      // Send a message to notify the kernel that we're ready.\n",
              "      channel.send({})\n",
              "\n",
              "      for await (const message of channel.messages) {\n",
              "        // Send a message to notify the kernel that we're ready.\n",
              "        channel.send({})\n",
              "        if (message.buffers) {\n",
              "          for (const buffer of message.buffers) {\n",
              "            buffers.push(buffer);\n",
              "            downloaded += buffer.byteLength;\n",
              "            progress.value = downloaded;\n",
              "          }\n",
              "        }\n",
              "      }\n",
              "      const blob = new Blob(buffers, {type: 'application/binary'});\n",
              "      const a = document.createElement('a');\n",
              "      a.href = window.URL.createObjectURL(blob);\n",
              "      a.download = filename;\n",
              "      div.appendChild(a);\n",
              "      a.click();\n",
              "      div.remove();\n",
              "    }\n",
              "  "
            ]
          },
          "metadata": {}
        },
        {
          "output_type": "display_data",
          "data": {
            "text/plain": [
              "<IPython.core.display.Javascript object>"
            ],
            "application/javascript": [
              "download(\"download_8c302462-2cd7-4b97-889c-454f3e7e6cc5\", \"resumen_prestadores_2.tex\", 623)"
            ]
          },
          "metadata": {}
        }
      ]
    },
    {
      "cell_type": "code",
      "source": [
        "#resumen por ciudad\n",
        "stats_ciudad = df.groupby(\"ciudad\").agg(\n",
        "    poblacion_promedio=(\"poblacion_total\", \"mean\"),\n",
        "    porcentaje_operados_prom=(\"porcentaje_operados\", \"mean\"),\n",
        "    precio_promedio=(\"precio\", \"mean\"),\n",
        "    infra_promedio=(\"infraestructura\", \"mean\"),\n",
        "    puntaje_promedio=(\"puntaje_doctor\", \"mean\"),\n",
        "    tecnologia_prom=(\"tecnologia_alta\", \"mean\"),\n",
        "    total_operados=(\"num_operados\", \"sum\")\n",
        ").round(2).reset_index()\n",
        "\n",
        "latex_ciudad = stats_ciudad.to_latex(index=False, caption=\"Estadísticas descriptivas por ciudad\", label=\"tab:estadisticas_ciudad\")\n",
        "with open(\"estadisticas_ciudad.tex\", \"w\") as f:\n",
        "    f.write(latex_ciudad)\n",
        "files.download(\"estadisticas_ciudad.tex\")"
      ],
      "metadata": {
        "id": "7NXv9EITREjR",
        "outputId": "94e6559a-f635-4554-d270-8ee7056bb0c3",
        "colab": {
          "base_uri": "https://localhost:8080/",
          "height": 17
        }
      },
      "execution_count": 7,
      "outputs": [
        {
          "output_type": "display_data",
          "data": {
            "text/plain": [
              "<IPython.core.display.Javascript object>"
            ],
            "application/javascript": [
              "\n",
              "    async function download(id, filename, size) {\n",
              "      if (!google.colab.kernel.accessAllowed) {\n",
              "        return;\n",
              "      }\n",
              "      const div = document.createElement('div');\n",
              "      const label = document.createElement('label');\n",
              "      label.textContent = `Downloading \"${filename}\": `;\n",
              "      div.appendChild(label);\n",
              "      const progress = document.createElement('progress');\n",
              "      progress.max = size;\n",
              "      div.appendChild(progress);\n",
              "      document.body.appendChild(div);\n",
              "\n",
              "      const buffers = [];\n",
              "      let downloaded = 0;\n",
              "\n",
              "      const channel = await google.colab.kernel.comms.open(id);\n",
              "      // Send a message to notify the kernel that we're ready.\n",
              "      channel.send({})\n",
              "\n",
              "      for await (const message of channel.messages) {\n",
              "        // Send a message to notify the kernel that we're ready.\n",
              "        channel.send({})\n",
              "        if (message.buffers) {\n",
              "          for (const buffer of message.buffers) {\n",
              "            buffers.push(buffer);\n",
              "            downloaded += buffer.byteLength;\n",
              "            progress.value = downloaded;\n",
              "          }\n",
              "        }\n",
              "      }\n",
              "      const blob = new Blob(buffers, {type: 'application/binary'});\n",
              "      const a = document.createElement('a');\n",
              "      a.href = window.URL.createObjectURL(blob);\n",
              "      a.download = filename;\n",
              "      div.appendChild(a);\n",
              "      a.click();\n",
              "      div.remove();\n",
              "    }\n",
              "  "
            ]
          },
          "metadata": {}
        },
        {
          "output_type": "display_data",
          "data": {
            "text/plain": [
              "<IPython.core.display.Javascript object>"
            ],
            "application/javascript": [
              "download(\"download_6f8cc855-ec11-42fe-bf0e-60a5774416dd\", \"estadisticas_ciudad.tex\", 2183)"
            ]
          },
          "metadata": {}
        }
      ]
    },
    {
      "cell_type": "code",
      "source": [
        "#resumen por año\n",
        "stats_anio = df.groupby(\"year\").agg(\n",
        "    poblacion_total=(\"poblacion_total\", \"sum\"),\n",
        "    porcentaje_operados_prom=(\"porcentaje_operados\", \"mean\"),\n",
        "    precio_promedio=(\"precio\", \"mean\"),\n",
        "    infra_promedio=(\"infraestructura\", \"mean\"),\n",
        "    puntaje_promedio=(\"puntaje_doctor\", \"mean\"),\n",
        "    tecnologia_prom=(\"tecnologia_alta\", \"mean\"),\n",
        "    total_operados=(\"num_operados\", \"sum\")\n",
        ").round(2).reset_index()\n",
        "\n",
        "latex_anio = stats_anio.to_latex(index=False, caption=\"Estadísticas descriptivas por año\", label=\"tab:estadisticas_anio\")\n",
        "with open(\"estadisticas_anio.tex\", \"w\") as f:\n",
        "    f.write(latex_anio)\n",
        "files.download(\"estadisticas_anio.tex\")"
      ],
      "metadata": {
        "id": "YkEGCztrRquG",
        "outputId": "146290a2-bcf8-40f3-af41-bce6cd217716",
        "colab": {
          "base_uri": "https://localhost:8080/",
          "height": 17
        }
      },
      "execution_count": 8,
      "outputs": [
        {
          "output_type": "display_data",
          "data": {
            "text/plain": [
              "<IPython.core.display.Javascript object>"
            ],
            "application/javascript": [
              "\n",
              "    async function download(id, filename, size) {\n",
              "      if (!google.colab.kernel.accessAllowed) {\n",
              "        return;\n",
              "      }\n",
              "      const div = document.createElement('div');\n",
              "      const label = document.createElement('label');\n",
              "      label.textContent = `Downloading \"${filename}\": `;\n",
              "      div.appendChild(label);\n",
              "      const progress = document.createElement('progress');\n",
              "      progress.max = size;\n",
              "      div.appendChild(progress);\n",
              "      document.body.appendChild(div);\n",
              "\n",
              "      const buffers = [];\n",
              "      let downloaded = 0;\n",
              "\n",
              "      const channel = await google.colab.kernel.comms.open(id);\n",
              "      // Send a message to notify the kernel that we're ready.\n",
              "      channel.send({})\n",
              "\n",
              "      for await (const message of channel.messages) {\n",
              "        // Send a message to notify the kernel that we're ready.\n",
              "        channel.send({})\n",
              "        if (message.buffers) {\n",
              "          for (const buffer of message.buffers) {\n",
              "            buffers.push(buffer);\n",
              "            downloaded += buffer.byteLength;\n",
              "            progress.value = downloaded;\n",
              "          }\n",
              "        }\n",
              "      }\n",
              "      const blob = new Blob(buffers, {type: 'application/binary'});\n",
              "      const a = document.createElement('a');\n",
              "      a.href = window.URL.createObjectURL(blob);\n",
              "      a.download = filename;\n",
              "      div.appendChild(a);\n",
              "      a.click();\n",
              "      div.remove();\n",
              "    }\n",
              "  "
            ]
          },
          "metadata": {}
        },
        {
          "output_type": "display_data",
          "data": {
            "text/plain": [
              "<IPython.core.display.Javascript object>"
            ],
            "application/javascript": [
              "download(\"download_554ed20b-997d-4843-95e4-4e065d6134be\", \"estadisticas_anio.tex\", 1288)"
            ]
          },
          "metadata": {}
        }
      ]
    },
    {
      "cell_type": "markdown",
      "source": [
        "**Gráficos estadísticas**"
      ],
      "metadata": {
        "id": "-rjiH-148e6a"
      }
    },
    {
      "cell_type": "code",
      "source": [
        "#precio\n",
        "plt.figure(figsize=(8, 5))\n",
        "sns.histplot(df, x=\"precio\", hue=\"prestador\", kde=True)\n",
        "plt.title(\"Distribución de Precios por Prestador\")\n",
        "plt.xlabel(\"Precio\")\n",
        "plt.ylabel(\"Frecuencia\")\n",
        "plt.tight_layout()\n",
        "plt.savefig(\"grafico_precio.pdf\")\n",
        "plt.close()\n",
        "\n",
        "#infraestructura\n",
        "plt.figure(figsize=(8, 5))\n",
        "sns.histplot(df, x=\"infraestructura\", hue=\"prestador\", kde=True)\n",
        "plt.title(\"Distribución de Infraestructura por Prestador\")\n",
        "plt.xlabel(\"Infraestructura\")\n",
        "plt.ylabel(\"Frecuencia\")\n",
        "plt.tight_layout()\n",
        "plt.savefig(\"grafico_infraestructura.pdf\")\n",
        "plt.close()\n",
        "\n",
        "#puntaje de doctor\n",
        "plt.figure(figsize=(8, 5))\n",
        "sns.histplot(df, x=\"puntaje_doctor\", hue=\"prestador\", kde=True)\n",
        "plt.title(\"Distribución de Puntaje del Doctor por Prestador\")\n",
        "plt.xlabel(\"Puntaje del Doctor\")\n",
        "plt.ylabel(\"Frecuencia\")\n",
        "plt.tight_layout()\n",
        "plt.savefig(\"grafico_puntaje_doctor.pdf\")\n",
        "plt.close()\n",
        "\n",
        "files.download(\"grafico_precio.pdf\")\n",
        "files.download(\"grafico_infraestructura.pdf\")\n",
        "files.download(\"grafico_puntaje_doctor.pdf\")"
      ],
      "metadata": {
        "id": "Fcc8cmGy8iGw",
        "outputId": "8aaae664-a3db-474b-e21f-d4a1019ee323",
        "colab": {
          "base_uri": "https://localhost:8080/",
          "height": 17
        }
      },
      "execution_count": 9,
      "outputs": [
        {
          "output_type": "display_data",
          "data": {
            "text/plain": [
              "<IPython.core.display.Javascript object>"
            ],
            "application/javascript": [
              "\n",
              "    async function download(id, filename, size) {\n",
              "      if (!google.colab.kernel.accessAllowed) {\n",
              "        return;\n",
              "      }\n",
              "      const div = document.createElement('div');\n",
              "      const label = document.createElement('label');\n",
              "      label.textContent = `Downloading \"${filename}\": `;\n",
              "      div.appendChild(label);\n",
              "      const progress = document.createElement('progress');\n",
              "      progress.max = size;\n",
              "      div.appendChild(progress);\n",
              "      document.body.appendChild(div);\n",
              "\n",
              "      const buffers = [];\n",
              "      let downloaded = 0;\n",
              "\n",
              "      const channel = await google.colab.kernel.comms.open(id);\n",
              "      // Send a message to notify the kernel that we're ready.\n",
              "      channel.send({})\n",
              "\n",
              "      for await (const message of channel.messages) {\n",
              "        // Send a message to notify the kernel that we're ready.\n",
              "        channel.send({})\n",
              "        if (message.buffers) {\n",
              "          for (const buffer of message.buffers) {\n",
              "            buffers.push(buffer);\n",
              "            downloaded += buffer.byteLength;\n",
              "            progress.value = downloaded;\n",
              "          }\n",
              "        }\n",
              "      }\n",
              "      const blob = new Blob(buffers, {type: 'application/binary'});\n",
              "      const a = document.createElement('a');\n",
              "      a.href = window.URL.createObjectURL(blob);\n",
              "      a.download = filename;\n",
              "      div.appendChild(a);\n",
              "      a.click();\n",
              "      div.remove();\n",
              "    }\n",
              "  "
            ]
          },
          "metadata": {}
        },
        {
          "output_type": "display_data",
          "data": {
            "text/plain": [
              "<IPython.core.display.Javascript object>"
            ],
            "application/javascript": [
              "download(\"download_2f473aea-b03a-405a-81ac-0901262b6ee5\", \"grafico_precio.pdf\", 18642)"
            ]
          },
          "metadata": {}
        },
        {
          "output_type": "display_data",
          "data": {
            "text/plain": [
              "<IPython.core.display.Javascript object>"
            ],
            "application/javascript": [
              "\n",
              "    async function download(id, filename, size) {\n",
              "      if (!google.colab.kernel.accessAllowed) {\n",
              "        return;\n",
              "      }\n",
              "      const div = document.createElement('div');\n",
              "      const label = document.createElement('label');\n",
              "      label.textContent = `Downloading \"${filename}\": `;\n",
              "      div.appendChild(label);\n",
              "      const progress = document.createElement('progress');\n",
              "      progress.max = size;\n",
              "      div.appendChild(progress);\n",
              "      document.body.appendChild(div);\n",
              "\n",
              "      const buffers = [];\n",
              "      let downloaded = 0;\n",
              "\n",
              "      const channel = await google.colab.kernel.comms.open(id);\n",
              "      // Send a message to notify the kernel that we're ready.\n",
              "      channel.send({})\n",
              "\n",
              "      for await (const message of channel.messages) {\n",
              "        // Send a message to notify the kernel that we're ready.\n",
              "        channel.send({})\n",
              "        if (message.buffers) {\n",
              "          for (const buffer of message.buffers) {\n",
              "            buffers.push(buffer);\n",
              "            downloaded += buffer.byteLength;\n",
              "            progress.value = downloaded;\n",
              "          }\n",
              "        }\n",
              "      }\n",
              "      const blob = new Blob(buffers, {type: 'application/binary'});\n",
              "      const a = document.createElement('a');\n",
              "      a.href = window.URL.createObjectURL(blob);\n",
              "      a.download = filename;\n",
              "      div.appendChild(a);\n",
              "      a.click();\n",
              "      div.remove();\n",
              "    }\n",
              "  "
            ]
          },
          "metadata": {}
        },
        {
          "output_type": "display_data",
          "data": {
            "text/plain": [
              "<IPython.core.display.Javascript object>"
            ],
            "application/javascript": [
              "download(\"download_7a284624-eeb6-482a-981f-75364079cdd6\", \"grafico_infraestructura.pdf\", 18992)"
            ]
          },
          "metadata": {}
        },
        {
          "output_type": "display_data",
          "data": {
            "text/plain": [
              "<IPython.core.display.Javascript object>"
            ],
            "application/javascript": [
              "\n",
              "    async function download(id, filename, size) {\n",
              "      if (!google.colab.kernel.accessAllowed) {\n",
              "        return;\n",
              "      }\n",
              "      const div = document.createElement('div');\n",
              "      const label = document.createElement('label');\n",
              "      label.textContent = `Downloading \"${filename}\": `;\n",
              "      div.appendChild(label);\n",
              "      const progress = document.createElement('progress');\n",
              "      progress.max = size;\n",
              "      div.appendChild(progress);\n",
              "      document.body.appendChild(div);\n",
              "\n",
              "      const buffers = [];\n",
              "      let downloaded = 0;\n",
              "\n",
              "      const channel = await google.colab.kernel.comms.open(id);\n",
              "      // Send a message to notify the kernel that we're ready.\n",
              "      channel.send({})\n",
              "\n",
              "      for await (const message of channel.messages) {\n",
              "        // Send a message to notify the kernel that we're ready.\n",
              "        channel.send({})\n",
              "        if (message.buffers) {\n",
              "          for (const buffer of message.buffers) {\n",
              "            buffers.push(buffer);\n",
              "            downloaded += buffer.byteLength;\n",
              "            progress.value = downloaded;\n",
              "          }\n",
              "        }\n",
              "      }\n",
              "      const blob = new Blob(buffers, {type: 'application/binary'});\n",
              "      const a = document.createElement('a');\n",
              "      a.href = window.URL.createObjectURL(blob);\n",
              "      a.download = filename;\n",
              "      div.appendChild(a);\n",
              "      a.click();\n",
              "      div.remove();\n",
              "    }\n",
              "  "
            ]
          },
          "metadata": {}
        },
        {
          "output_type": "display_data",
          "data": {
            "text/plain": [
              "<IPython.core.display.Javascript object>"
            ],
            "application/javascript": [
              "download(\"download_de616699-5acf-47e3-998d-ef35c496665f\", \"grafico_puntaje_doctor.pdf\", 18631)"
            ]
          },
          "metadata": {}
        }
      ]
    },
    {
      "cell_type": "markdown",
      "source": [
        "**Proporción operados**"
      ],
      "metadata": {
        "id": "l7t_nkuvKJ7f"
      }
    },
    {
      "cell_type": "code",
      "source": [
        "#evolución operaciones\n",
        "evolucion = df.groupby(\"year\").agg({\n",
        "    \"num_operados\": \"sum\",\n",
        "    \"poblacion_total\": \"sum\"\n",
        "}).reset_index()\n",
        "evolucion[\"porcentaje_operados\"] = evolucion[\"num_operados\"] / evolucion[\"poblacion_total\"]\n",
        "\n",
        "plt.figure(figsize=(10, 5))\n",
        "sns.lineplot(data=evolucion, x=\"year\", y=\"porcentaje_operados\", marker=\"o\", label=\"Datos observados\")\n",
        "plt.title(\"Porcentaje de la población operada por año\")\n",
        "plt.ylabel(\"Porcentaje operados\")\n",
        "plt.xlabel(\"Año\")\n",
        "plt.legend()\n",
        "plt.grid(True)\n",
        "plt.tight_layout()\n",
        "plt.savefig(\"evolucion_operaciones.pdf\", format=\"pdf\")\n",
        "plt.show()\n",
        "files.download(\"evolucion_operaciones.pdf\")"
      ],
      "metadata": {
        "colab": {
          "base_uri": "https://localhost:8080/",
          "height": 507
        },
        "id": "l7seGtO1Kt6p",
        "outputId": "f4c4261a-4264-4efb-cbc2-ee3cccffa731"
      },
      "execution_count": 10,
      "outputs": [
        {
          "output_type": "display_data",
          "data": {
            "text/plain": [
              "<Figure size 1000x500 with 1 Axes>"
            ],
            "image/png": "[encoded data removed]"
          },
          "metadata": {}
        },
        {
          "output_type": "display_data",
          "data": {
            "text/plain": [
              "<IPython.core.display.Javascript object>"
            ],
            "application/javascript": [
              "\n",
              "    async function download(id, filename, size) {\n",
              "      if (!google.colab.kernel.accessAllowed) {\n",
              "        return;\n",
              "      }\n",
              "      const div = document.createElement('div');\n",
              "      const label = document.createElement('label');\n",
              "      label.textContent = `Downloading \"${filename}\": `;\n",
              "      div.appendChild(label);\n",
              "      const progress = document.createElement('progress');\n",
              "      progress.max = size;\n",
              "      div.appendChild(progress);\n",
              "      document.body.appendChild(div);\n",
              "\n",
              "      const buffers = [];\n",
              "      let downloaded = 0;\n",
              "\n",
              "      const channel = await google.colab.kernel.comms.open(id);\n",
              "      // Send a message to notify the kernel that we're ready.\n",
              "      channel.send({})\n",
              "\n",
              "      for await (const message of channel.messages) {\n",
              "        // Send a message to notify the kernel that we're ready.\n",
              "        channel.send({})\n",
              "        if (message.buffers) {\n",
              "          for (const buffer of message.buffers) {\n",
              "            buffers.push(buffer);\n",
              "            downloaded += buffer.byteLength;\n",
              "            progress.value = downloaded;\n",
              "          }\n",
              "        }\n",
              "      }\n",
              "      const blob = new Blob(buffers, {type: 'application/binary'});\n",
              "      const a = document.createElement('a');\n",
              "      a.href = window.URL.createObjectURL(blob);\n",
              "      a.download = filename;\n",
              "      div.appendChild(a);\n",
              "      a.click();\n",
              "      div.remove();\n",
              "    }\n",
              "  "
            ]
          },
          "metadata": {}
        },
        {
          "output_type": "display_data",
          "data": {
            "text/plain": [
              "<IPython.core.display.Javascript object>"
            ],
            "application/javascript": [
              "download(\"download_1c19eeb2-a6e7-44c8-a828-bce0a9a260a4\", \"evolucion_operaciones.pdf\", 13980)"
            ]
          },
          "metadata": {}
        }
      ]
    },
    {
      "cell_type": "markdown",
      "source": [
        "**Efecto de la introducción de la tecnología**"
      ],
      "metadata": {
        "id": "j7MJZylIaPZr"
      }
    },
    {
      "cell_type": "code",
      "source": [
        "plt.figure(figsize=(8, 5))\n",
        "sns.boxplot(x=\"tecnologia_alta\", y=\"num_operados\", data=df)\n",
        "plt.xlabel(\"Tecnología disponible (0 = No, 1 = Sí)\")\n",
        "plt.ylabel(\"Número de Operados\")\n",
        "plt.title(\"Efecto del cambio tecnológico en el número de operados\")\n",
        "plt.tight_layout()\n",
        "plt.savefig(\"efecto_tecnologia_operados.pdf\")\n",
        "plt.show()\n",
        "files.download(\"efecto_tecnologia_operados.pdf\")"
      ],
      "metadata": {
        "id": "2RA3WSe6aPJR",
        "outputId": "4fcb8929-4f80-4836-d9dc-bc271c8474a0",
        "colab": {
          "base_uri": "https://localhost:8080/",
          "height": 507
        }
      },
      "execution_count": 11,
      "outputs": [
        {
          "output_type": "display_data",
          "data": {
            "text/plain": [
              "<Figure size 800x500 with 1 Axes>"
            ],
            "image/png": "[encoded data removed]"
          },
          "metadata": {}
        },
        {
          "output_type": "display_data",
          "data": {
            "text/plain": [
              "<IPython.core.display.Javascript object>"
            ],
            "application/javascript": [
              "\n",
              "    async function download(id, filename, size) {\n",
              "      if (!google.colab.kernel.accessAllowed) {\n",
              "        return;\n",
              "      }\n",
              "      const div = document.createElement('div');\n",
              "      const label = document.createElement('label');\n",
              "      label.textContent = `Downloading \"${filename}\": `;\n",
              "      div.appendChild(label);\n",
              "      const progress = document.createElement('progress');\n",
              "      progress.max = size;\n",
              "      div.appendChild(progress);\n",
              "      document.body.appendChild(div);\n",
              "\n",
              "      const buffers = [];\n",
              "      let downloaded = 0;\n",
              "\n",
              "      const channel = await google.colab.kernel.comms.open(id);\n",
              "      // Send a message to notify the kernel that we're ready.\n",
              "      channel.send({})\n",
              "\n",
              "      for await (const message of channel.messages) {\n",
              "        // Send a message to notify the kernel that we're ready.\n",
              "        channel.send({})\n",
              "        if (message.buffers) {\n",
              "          for (const buffer of message.buffers) {\n",
              "            buffers.push(buffer);\n",
              "            downloaded += buffer.byteLength;\n",
              "            progress.value = downloaded;\n",
              "          }\n",
              "        }\n",
              "      }\n",
              "      const blob = new Blob(buffers, {type: 'application/binary'});\n",
              "      const a = document.createElement('a');\n",
              "      a.href = window.URL.createObjectURL(blob);\n",
              "      a.download = filename;\n",
              "      div.appendChild(a);\n",
              "      a.click();\n",
              "      div.remove();\n",
              "    }\n",
              "  "
            ]
          },
          "metadata": {}
        },
        {
          "output_type": "display_data",
          "data": {
            "text/plain": [
              "<IPython.core.display.Javascript object>"
            ],
            "application/javascript": [
              "download(\"download_268d96bf-e121-4cfb-b207-c3585d3ad8f5\", \"efecto_tecnologia_operados.pdf\", 15674)"
            ]
          },
          "metadata": {}
        }
      ]
    },
    {
      "cell_type": "markdown",
      "source": [
        "**Efecto tecnología en precios**"
      ],
      "metadata": {
        "id": "Tjk5J6EOfoxA"
      }
    },
    {
      "cell_type": "code",
      "source": [
        "plt.figure(figsize=(8, 5))\n",
        "sns.boxplot(x=\"tecnologia_alta\", y=\"precio\", data=df)\n",
        "plt.xlabel(\"Tecnología disponible (0 = No, 1 = Sí)\")\n",
        "plt.ylabel(\"Precio\")\n",
        "plt.title(\"Efecto del cambio tecnológico en los precios\")\n",
        "plt.tight_layout()\n",
        "plt.savefig(\"efecto_tecnologia_precios.pdf\")\n",
        "plt.show()\n",
        "files.download(\"efecto_tecnologia_precios.pdf\")"
      ],
      "metadata": {
        "id": "_wL6Jc9SfpY5",
        "outputId": "3247cfb4-5e27-48d2-aa97-5997f16fd164",
        "colab": {
          "base_uri": "https://localhost:8080/",
          "height": 507
        }
      },
      "execution_count": 12,
      "outputs": [
        {
          "output_type": "display_data",
          "data": {
            "text/plain": [
              "<Figure size 800x500 with 1 Axes>"
            ],
            "image/png": "[encoded data removed]"
          },
          "metadata": {}
        },
        {
          "output_type": "display_data",
          "data": {
            "text/plain": [
              "<IPython.core.display.Javascript object>"
            ],
            "application/javascript": [
              "\n",
              "    async function download(id, filename, size) {\n",
              "      if (!google.colab.kernel.accessAllowed) {\n",
              "        return;\n",
              "      }\n",
              "      const div = document.createElement('div');\n",
              "      const label = document.createElement('label');\n",
              "      label.textContent = `Downloading \"${filename}\": `;\n",
              "      div.appendChild(label);\n",
              "      const progress = document.createElement('progress');\n",
              "      progress.max = size;\n",
              "      div.appendChild(progress);\n",
              "      document.body.appendChild(div);\n",
              "\n",
              "      const buffers = [];\n",
              "      let downloaded = 0;\n",
              "\n",
              "      const channel = await google.colab.kernel.comms.open(id);\n",
              "      // Send a message to notify the kernel that we're ready.\n",
              "      channel.send({})\n",
              "\n",
              "      for await (const message of channel.messages) {\n",
              "        // Send a message to notify the kernel that we're ready.\n",
              "        channel.send({})\n",
              "        if (message.buffers) {\n",
              "          for (const buffer of message.buffers) {\n",
              "            buffers.push(buffer);\n",
              "            downloaded += buffer.byteLength;\n",
              "            progress.value = downloaded;\n",
              "          }\n",
              "        }\n",
              "      }\n",
              "      const blob = new Blob(buffers, {type: 'application/binary'});\n",
              "      const a = document.createElement('a');\n",
              "      a.href = window.URL.createObjectURL(blob);\n",
              "      a.download = filename;\n",
              "      div.appendChild(a);\n",
              "      a.click();\n",
              "      div.remove();\n",
              "    }\n",
              "  "
            ]
          },
          "metadata": {}
        },
        {
          "output_type": "display_data",
          "data": {
            "text/plain": [
              "<IPython.core.display.Javascript object>"
            ],
            "application/javascript": [
              "download(\"download_67010f35-a721-4741-b3c7-c28d59c1dcc6\", \"efecto_tecnologia_precios.pdf\", 14765)"
            ]
          },
          "metadata": {}
        }
      ]
    },
    {
      "cell_type": "markdown",
      "source": [
        "**Prestadores similares**"
      ],
      "metadata": {
        "id": "XUPgXQAWg6M5"
      }
    },
    {
      "cell_type": "code",
      "source": [
        "from sklearn.preprocessing import StandardScaler\n",
        "from sklearn.cluster import KMeans\n",
        "\n",
        "#metodo: k-means (precio)\n",
        "df_prestador = df.groupby(\"prestador\")[[\"precio\", \"infraestructura\", \"puntaje_doctor\", \"tecnologia_alta\"]].mean().reset_index()\n",
        "\n",
        "X = StandardScaler().fit_transform(df_prestador.drop(columns=[\"prestador\"]))\n",
        "\n",
        "kmeans = KMeans(n_clusters=2, random_state=0).fit(X)\n",
        "df_prestador[\"nido\"] = kmeans.labels_\n",
        "df_prestador"
      ],
      "metadata": {
        "id": "2RhuoQn1g56E",
        "outputId": "5b8ea67b-ff4d-4d77-8d37-744bedb081d6",
        "colab": {
          "base_uri": "https://localhost:8080/",
          "height": 175
        }
      },
      "execution_count": 14,
      "outputs": [
        {
          "output_type": "execute_result",
          "data": {
            "text/plain": [
              "   prestador     precio  infraestructura  puntaje_doctor  tecnologia_alta  \\\n",
              "0  Clinica_A  11.709773         8.037483        8.923652         0.678261   \n",
              "1  Clinica_B  10.048206         6.993956        7.463565         0.246914   \n",
              "2  Clinica_C   8.952163         6.031273        6.051663         0.000000   \n",
              "3    Publico  10.143746         5.490032        8.027771         0.075000   \n",
              "\n",
              "   nido  \n",
              "0     1  \n",
              "1     0  \n",
              "2     0  \n",
              "3     0  "
            ],
            "text/html": [
              "\n",
              "  <div id=\"df-784de930-4e13-4b9b-8f2d-2c3e7a636648\" class=\"colab-df-container\">\n",
              "    <div>\n",
              "<style scoped>\n",
              "    .dataframe tbody tr th:only-of-type {\n",
              "        vertical-align: middle;\n",
              "    }\n",
              "\n",
              "    .dataframe tbody tr th {\n",
              "        vertical-align: top;\n",
              "    }\n",
              "\n",
              "    .dataframe thead th {\n",
              "        text-align: right;\n",
              "    }\n",
              "</style>\n",
              "<table border=\"1\" class=\"dataframe\">\n",
              "  <thead>\n",
              "    <tr style=\"text-align: right;\">\n",
              "      <th></th>\n",
              "      <th>prestador</th>\n",
              "      <th>precio</th>\n",
              "      <th>infraestructura</th>\n",
              "      <th>puntaje_doctor</th>\n",
              "      <th>tecnologia_alta</th>\n",
              "      <th>nido</th>\n",
              "    </tr>\n",
              "  </thead>\n",
              "  <tbody>\n",
              "    <tr>\n",
              "      <th>0</th>\n",
              "      <td>Clinica_A</td>\n",
              "      <td>11.709773</td>\n",
              "      <td>8.037483</td>\n",
              "      <td>8.923652</td>\n",
              "      <td>0.678261</td>\n",
              "      <td>1</td>\n",
              "    </tr>\n",
              "    <tr>\n",
              "      <th>1</th>\n",
              "      <td>Clinica_B</td>\n",
              "      <td>10.048206</td>\n",
              "      <td>6.993956</td>\n",
              "      <td>7.463565</td>\n",
              "      <td>0.246914</td>\n",
              "      <td>0</td>\n",
              "    </tr>\n",
              "    <tr>\n",
              "      <th>2</th>\n",
              "      <td>Clinica_C</td>\n",
              "      <td>8.952163</td>\n",
              "      <td>6.031273</td>\n",
              "      <td>6.051663</td>\n",
              "      <td>0.000000</td>\n",
              "      <td>0</td>\n",
              "    </tr>\n",
              "    <tr>\n",
              "      <th>3</th>\n",
              "      <td>Publico</td>\n",
              "      <td>10.143746</td>\n",
              "      <td>5.490032</td>\n",
              "      <td>8.027771</td>\n",
              "      <td>0.075000</td>\n",
              "      <td>0</td>\n",
              "    </tr>\n",
              "  </tbody>\n",
              "</table>\n",
              "</div>\n",
              "    <div class=\"colab-df-buttons\">\n",
              "\n",
              "  <div class=\"colab-df-container\">\n",
              "    <button class=\"colab-df-convert\" onclick=\"convertToInteractive('df-784de930-4e13-4b9b-8f2d-2c3e7a636648')\"\n",
              "            title=\"Convert this dataframe to an interactive table.\"\n",
              "            style=\"display:none;\">\n",
              "\n",
              "  <svg xmlns=\"http://www.w3.org/2000/svg\" height=\"24px\" viewBox=\"0 -960 960 960\">\n",
              "    <path d=\"M120-120v-720h720v720H120Zm60-500h600v-160H180v160Zm220 220h160v-160H400v160Zm0 220h160v-160H400v160ZM180-400h160v-160H180v160Zm440 0h160v-160H620v160ZM180-180h160v-160H180v160Zm440 0h160v-160H620v160Z\"/>\n",
              "  </svg>\n",
              "    </button>\n",
              "\n",
              "  <style>\n",
              "    .colab-df-container {\n",
              "      display:flex;\n",
              "      gap: 12px;\n",
              "    }\n",
              "\n",
              "    .colab-df-convert {\n",
              "      background-color: #E8F0FE;\n",
              "      border: none;\n",
              "      border-radius: 50%;\n",
              "      cursor: pointer;\n",
              "      display: none;\n",
              "      fill: #1967D2;\n",
              "      height: 32px;\n",
              "      padding: 0 0 0 0;\n",
              "      width: 32px;\n",
              "    }\n",
              "\n",
              "    .colab-df-convert:hover {\n",
              "      background-color: #E2EBFA;\n",
              "      box-shadow: 0px 1px 2px rgba(60, 64, 67, 0.3), 0px 1px 3px 1px rgba(60, 64, 67, 0.15);\n",
              "      fill: #174EA6;\n",
              "    }\n",
              "\n",
              "    .colab-df-buttons div {\n",
              "      margin-bottom: 4px;\n",
              "    }\n",
              "\n",
              "    [theme=dark] .colab-df-convert {\n",
              "      background-color: #3B4455;\n",
              "      fill: #D2E3FC;\n",
              "    }\n",
              "\n",
              "    [theme=dark] .colab-df-convert:hover {\n",
              "      background-color: #434B5C;\n",
              "      box-shadow: 0px 1px 3px 1px rgba(0, 0, 0, 0.15);\n",
              "      filter: drop-shadow(0px 1px 2px rgba(0, 0, 0, 0.3));\n",
              "      fill: #FFFFFF;\n",
              "    }\n",
              "  </style>\n",
              "\n",
              "    <script>\n",
              "      const buttonEl =\n",
              "        document.querySelector('#df-784de930-4e13-4b9b-8f2d-2c3e7a636648 button.colab-df-convert');\n",
              "      buttonEl.style.display =\n",
              "        google.colab.kernel.accessAllowed ? 'block' : 'none';\n",
              "\n",
              "      async function convertToInteractive(key) {\n",
              "        const element = document.querySelector('#df-784de930-4e13-4b9b-8f2d-2c3e7a636648');\n",
              "        const dataTable =\n",
              "          await google.colab.kernel.invokeFunction('convertToInteractive',\n",
              "                                                    [key], {});\n",
              "        if (!dataTable) return;\n",
              "\n",
              "        const docLinkHtml = 'Like what you see? Visit the ' +\n",
              "          '<a target=\"_blank\" href=https://colab.research.google.com/notebooks/data_table.ipynb>data table notebook</a>'\n",
              "          + ' to learn more about interactive tables.';\n",
              "        element.innerHTML = '';\n",
              "        dataTable['output_type'] = 'display_data';\n",
              "        await google.colab.output.renderOutput(dataTable, element);\n",
              "        const docLink = document.createElement('div');\n",
              "        docLink.innerHTML = docLinkHtml;\n",
              "        element.appendChild(docLink);\n",
              "      }\n",
              "    </script>\n",
              "  </div>\n",
              "\n",
              "\n",
              "    <div id=\"df-aa4bb928-b8a9-498e-b137-738ada34365b\">\n",
              "      <button class=\"colab-df-quickchart\" onclick=\"quickchart('df-aa4bb928-b8a9-498e-b137-738ada34365b')\"\n",
              "                title=\"Suggest charts\"\n",
              "                style=\"display:none;\">\n",
              "\n",
              "<svg xmlns=\"http://www.w3.org/2000/svg\" height=\"24px\"viewBox=\"0 0 24 24\"\n",
              "     width=\"24px\">\n",
              "    <g>\n",
              "        <path d=\"M19 3H5c-1.1 0-2 .9-2 2v14c0 1.1.9 2 2 2h14c1.1 0 2-.9 2-2V5c0-1.1-.9-2-2-2zM9 17H7v-7h2v7zm4 0h-2V7h2v10zm4 0h-2v-4h2v4z\"/>\n",
              "    </g>\n",
              "</svg>\n",
              "      </button>\n",
              "\n",
              "<style>\n",
              "  .colab-df-quickchart {\n",
              "      --bg-color: #E8F0FE;\n",
              "      --fill-color: #1967D2;\n",
              "      --hover-bg-color: #E2EBFA;\n",
              "      --hover-fill-color: #174EA6;\n",
              "      --disabled-fill-color: #AAA;\n",
              "      --disabled-bg-color: #DDD;\n",
              "  }\n",
              "\n",
              "  [theme=dark] .colab-df-quickchart {\n",
              "      --bg-color: #3B4455;\n",
              "      --fill-color: #D2E3FC;\n",
              "      --hover-bg-color: #434B5C;\n",
              "      --hover-fill-color: #FFFFFF;\n",
              "      --disabled-bg-color: #3B4455;\n",
              "      --disabled-fill-color: #666;\n",
              "  }\n",
              "\n",
              "  .colab-df-quickchart {\n",
              "    background-color: var(--bg-color);\n",
              "    border: none;\n",
              "    border-radius: 50%;\n",
              "    cursor: pointer;\n",
              "    display: none;\n",
              "    fill: var(--fill-color);\n",
              "    height: 32px;\n",
              "    padding: 0;\n",
              "    width: 32px;\n",
              "  }\n",
              "\n",
              "  .colab-df-quickchart:hover {\n",
              "    background-color: var(--hover-bg-color);\n",
              "    box-shadow: 0 1px 2px rgba(60, 64, 67, 0.3), 0 1px 3px 1px rgba(60, 64, 67, 0.15);\n",
              "    fill: var(--button-hover-fill-color);\n",
              "  }\n",
              "\n",
              "  .colab-df-quickchart-complete:disabled,\n",
              "  .colab-df-quickchart-complete:disabled:hover {\n",
              "    background-color: var(--disabled-bg-color);\n",
              "    fill: var(--disabled-fill-color);\n",
              "    box-shadow: none;\n",
              "  }\n",
              "\n",
              "  .colab-df-spinner {\n",
              "    border: 2px solid var(--fill-color);\n",
              "    border-color: transparent;\n",
              "    border-bottom-color: var(--fill-color);\n",
              "    animation:\n",
              "      spin 1s steps(1) infinite;\n",
              "  }\n",
              "\n",
              "  @keyframes spin {\n",
              "    0% {\n",
              "      border-color: transparent;\n",
              "      border-bottom-color: var(--fill-color);\n",
              "      border-left-color: var(--fill-color);\n",
              "    }\n",
              "    20% {\n",
              "      border-color: transparent;\n",
              "      border-left-color: var(--fill-color);\n",
              "      border-top-color: var(--fill-color);\n",
              "    }\n",
              "    30% {\n",
              "      border-color: transparent;\n",
              "      border-left-color: var(--fill-color);\n",
              "      border-top-color: var(--fill-color);\n",
              "      border-right-color: var(--fill-color);\n",
              "    }\n",
              "    40% {\n",
              "      border-color: transparent;\n",
              "      border-right-color: var(--fill-color);\n",
              "      border-top-color: var(--fill-color);\n",
              "    }\n",
              "    60% {\n",
              "      border-color: transparent;\n",
              "      border-right-color: var(--fill-color);\n",
              "    }\n",
              "    80% {\n",
              "      border-color: transparent;\n",
              "      border-right-color: var(--fill-color);\n",
              "      border-bottom-color: var(--fill-color);\n",
              "    }\n",
              "    90% {\n",
              "      border-color: transparent;\n",
              "      border-bottom-color: var(--fill-color);\n",
              "    }\n",
              "  }\n",
              "</style>\n",
              "\n",
              "      <script>\n",
              "        async function quickchart(key) {\n",
              "          const quickchartButtonEl =\n",
              "            document.querySelector('#' + key + ' button');\n",
              "          quickchartButtonEl.disabled = true;  // To prevent multiple clicks.\n",
              "          quickchartButtonEl.classList.add('colab-df-spinner');\n",
              "          try {\n",
              "            const charts = await google.colab.kernel.invokeFunction(\n",
              "                'suggestCharts', [key], {});\n",
              "          } catch (error) {\n",
              "            console.error('Error during call to suggestCharts:', error);\n",
              "          }\n",
              "          quickchartButtonEl.classList.remove('colab-df-spinner');\n",
              "          quickchartButtonEl.classList.add('colab-df-quickchart-complete');\n",
              "        }\n",
              "        (() => {\n",
              "          let quickchartButtonEl =\n",
              "            document.querySelector('#df-aa4bb928-b8a9-498e-b137-738ada34365b button');\n",
              "          quickchartButtonEl.style.display =\n",
              "            google.colab.kernel.accessAllowed ? 'block' : 'none';\n",
              "        })();\n",
              "      </script>\n",
              "    </div>\n",
              "\n",
              "  <div id=\"id_f799e002-3f0b-4984-96bf-f07d48d89dd6\">\n",
              "    <style>\n",
              "      .colab-df-generate {\n",
              "        background-color: #E8F0FE;\n",
              "        border: none;\n",
              "        border-radius: 50%;\n",
              "        cursor: pointer;\n",
              "        display: none;\n",
              "        fill: #1967D2;\n",
              "        height: 32px;\n",
              "        padding: 0 0 0 0;\n",
              "        width: 32px;\n",
              "      }\n",
              "\n",
              "      .colab-df-generate:hover {\n",
              "        background-color: #E2EBFA;\n",
              "        box-shadow: 0px 1px 2px rgba(60, 64, 67, 0.3), 0px 1px 3px 1px rgba(60, 64, 67, 0.15);\n",
              "        fill: #174EA6;\n",
              "      }\n",
              "\n",
              "      [theme=dark] .colab-df-generate {\n",
              "        background-color: #3B4455;\n",
              "        fill: #D2E3FC;\n",
              "      }\n",
              "\n",
              "      [theme=dark] .colab-df-generate:hover {\n",
              "        background-color: #434B5C;\n",
              "        box-shadow: 0px 1px 3px 1px rgba(0, 0, 0, 0.15);\n",
              "        filter: drop-shadow(0px 1px 2px rgba(0, 0, 0, 0.3));\n",
              "        fill: #FFFFFF;\n",
              "      }\n",
              "    </style>\n",
              "    <button class=\"colab-df-generate\" onclick=\"generateWithVariable('df_prestador')\"\n",
              "            title=\"Generate code using this dataframe.\"\n",
              "            style=\"display:none;\">\n",
              "\n",
              "  <svg xmlns=\"http://www.w3.org/2000/svg\" height=\"24px\"viewBox=\"0 0 24 24\"\n",
              "       width=\"24px\">\n",
              "    <path d=\"M7,19H8.4L18.45,9,17,7.55,7,17.6ZM5,21V16.75L18.45,3.32a2,2,0,0,1,2.83,0l1.4,1.43a1.91,1.91,0,0,1,.58,1.4,1.91,1.91,0,0,1-.58,1.4L9.25,21ZM18.45,9,17,7.55Zm-12,3A5.31,5.31,0,0,0,4.9,8.1,5.31,5.31,0,0,0,1,6.5,5.31,5.31,0,0,0,4.9,4.9,5.31,5.31,0,0,0,6.5,1,5.31,5.31,0,0,0,8.1,4.9,5.31,5.31,0,0,0,12,6.5,5.46,5.46,0,0,0,6.5,12Z\"/>\n",
              "  </svg>\n",
              "    </button>\n",
              "    <script>\n",
              "      (() => {\n",
              "      const buttonEl =\n",
              "        document.querySelector('#id_f799e002-3f0b-4984-96bf-f07d48d89dd6 button.colab-df-generate');\n",
              "      buttonEl.style.display =\n",
              "        google.colab.kernel.accessAllowed ? 'block' : 'none';\n",
              "\n",
              "      buttonEl.onclick = () => {\n",
              "        google.colab.notebook.generateWithVariable('df_prestador');\n",
              "      }\n",
              "      })();\n",
              "    </script>\n",
              "  </div>\n",
              "\n",
              "    </div>\n",
              "  </div>\n"
            ],
            "application/vnd.google.colaboratory.intrinsic+json": {
              "type": "dataframe",
              "variable_name": "df_prestador",
              "summary": "{\n  \"name\": \"df_prestador\",\n  \"rows\": 4,\n  \"fields\": [\n    {\n      \"column\": \"prestador\",\n      \"properties\": {\n        \"dtype\": \"string\",\n        \"num_unique_values\": 4,\n        \"samples\": [\n          \"Clinica_B\",\n          \"Publico\",\n          \"Clinica_A\"\n        ],\n        \"semantic_type\": \"\",\n        \"description\": \"\"\n      }\n    },\n    {\n      \"column\": \"precio\",\n      \"properties\": {\n        \"dtype\": \"number\",\n        \"std\": 1.1346060191155036,\n        \"min\": 8.952162908251516,\n        \"max\": 11.7097732084856,\n        \"num_unique_values\": 4,\n        \"samples\": [\n          10.04820598094087,\n          10.14374634230548,\n          11.7097732084856\n        ],\n        \"semantic_type\": \"\",\n        \"description\": \"\"\n      }\n    },\n    {\n      \"column\": \"infraestructura\",\n      \"properties\": {\n        \"dtype\": \"number\",\n        \"std\": 1.1211905963104003,\n        \"min\": 5.490031986828598,\n        \"max\": 8.03748280173792,\n        \"num_unique_values\": 4,\n        \"samples\": [\n          6.993955944687818,\n          5.490031986828598,\n          8.03748280173792\n        ],\n        \"semantic_type\": \"\",\n        \"description\": \"\"\n      }\n    },\n    {\n      \"column\": \"puntaje_doctor\",\n      \"properties\": {\n        \"dtype\": \"number\",\n        \"std\": 1.2041451124024873,\n        \"min\": 6.051662568687687,\n        \"max\": 8.92365226976503,\n        \"num_unique_values\": 4,\n        \"samples\": [\n          7.463565180460758,\n          8.027771393896499,\n          8.92365226976503\n        ],\n        \"semantic_type\": \"\",\n        \"description\": \"\"\n      }\n    },\n    {\n      \"column\": \"tecnologia_alta\",\n      \"properties\": {\n        \"dtype\": \"number\",\n        \"std\": 0.3036126319174177,\n        \"min\": 0.0,\n        \"max\": 0.6782608695652174,\n        \"num_unique_values\": 4,\n        \"samples\": [\n          0.24691358024691357,\n          0.075,\n          0.6782608695652174\n        ],\n        \"semantic_type\": \"\",\n        \"description\": \"\"\n      }\n    },\n    {\n      \"column\": \"nido\",\n      \"properties\": {\n        \"dtype\": \"int32\",\n        \"num_unique_values\": 2,\n        \"samples\": [\n          0,\n          1\n        ],\n        \"semantic_type\": \"\",\n        \"description\": \"\"\n      }\n    }\n  ]\n}"
            }
          },
          "metadata": {},
          "execution_count": 14
        }
      ]
    },
    {
      "cell_type": "code",
      "source": [
        "palette_colores = {\n",
        "    \"Clinica_A\": \"green\",\n",
        "    \"Clinica_B\": \"orange\",\n",
        "    \"Clinica_C\": \"blue\",\n",
        "    \"Publico\": \"red\"\n",
        "}\n",
        "\n",
        "sns.boxplot(x=\"prestador\", y=\"precio\", data=df, palette=palette_colores)\n",
        "plt.savefig(\"prestadores_similares.pdf\")\n",
        "plt.show()\n",
        "files.download(\"prestadores_similares.pdf\")"
      ],
      "metadata": {
        "id": "dA6km-3hhKIi",
        "outputId": "c457c1a0-a938-4a5e-eb70-3ea8fd89bbc3",
        "colab": {
          "base_uri": "https://localhost:8080/",
          "height": 537
        }
      },
      "execution_count": 15,
      "outputs": [
        {
          "output_type": "stream",
          "name": "stderr",
          "text": [
            "<ipython-input-15-777764086>:8: FutureWarning: \n",
            "\n",
            "Passing `palette` without assigning `hue` is deprecated and will be removed in v0.14.0. Assign the `x` variable to `hue` and set `legend=False` for the same effect.\n",
            "\n",
            "  sns.boxplot(x=\"prestador\", y=\"precio\", data=df, palette=palette_colores)\n"
          ]
        },
        {
          "output_type": "display_data",
          "data": {
            "text/plain": [
              "<Figure size 640x480 with 1 Axes>"
            ],
            "image/png": "[encoded data removed]"
          },
          "metadata": {}
        },
        {
          "output_type": "display_data",
          "data": {
            "text/plain": [
              "<IPython.core.display.Javascript object>"
            ],
            "application/javascript": [
              "\n",
              "    async function download(id, filename, size) {\n",
              "      if (!google.colab.kernel.accessAllowed) {\n",
              "        return;\n",
              "      }\n",
              "      const div = document.createElement('div');\n",
              "      const label = document.createElement('label');\n",
              "      label.textContent = `Downloading \"${filename}\": `;\n",
              "      div.appendChild(label);\n",
              "      const progress = document.createElement('progress');\n",
              "      progress.max = size;\n",
              "      div.appendChild(progress);\n",
              "      document.body.appendChild(div);\n",
              "\n",
              "      const buffers = [];\n",
              "      let downloaded = 0;\n",
              "\n",
              "      const channel = await google.colab.kernel.comms.open(id);\n",
              "      // Send a message to notify the kernel that we're ready.\n",
              "      channel.send({})\n",
              "\n",
              "      for await (const message of channel.messages) {\n",
              "        // Send a message to notify the kernel that we're ready.\n",
              "        channel.send({})\n",
              "        if (message.buffers) {\n",
              "          for (const buffer of message.buffers) {\n",
              "            buffers.push(buffer);\n",
              "            downloaded += buffer.byteLength;\n",
              "            progress.value = downloaded;\n",
              "          }\n",
              "        }\n",
              "      }\n",
              "      const blob = new Blob(buffers, {type: 'application/binary'});\n",
              "      const a = document.createElement('a');\n",
              "      a.href = window.URL.createObjectURL(blob);\n",
              "      a.download = filename;\n",
              "      div.appendChild(a);\n",
              "      a.click();\n",
              "      div.remove();\n",
              "    }\n",
              "  "
            ]
          },
          "metadata": {}
        },
        {
          "output_type": "display_data",
          "data": {
            "text/plain": [
              "<IPython.core.display.Javascript object>"
            ],
            "application/javascript": [
              "download(\"download_c3a8ab37-65a4-4a34-819f-bfce04b71245\", \"prestadores_similares.pdf\", 12766)"
            ]
          },
          "metadata": {}
        }
      ]
    },
    {
      "cell_type": "code",
      "source": [
        "#boxplot de Infraestructura\n",
        "sns.boxplot( x=\"prestador\", y=\"infraestructura\", data=df, palette=palette_colores)\n",
        "plt.savefig(\"prestadores_similares_infra.pdf\")\n",
        "plt.show()\n",
        "files.download(\"prestadores_similares_infra.pdf\")\n",
        "\n",
        "#boxplot de Puntaje del Doctor\n",
        "sns.boxplot( x=\"prestador\", y=\"puntaje_doctor\", data=df, palette=palette_colores)\n",
        "plt.savefig(\"prestadores_similares_doc.pdf\")\n",
        "plt.show()\n",
        "files.download(\"prestadores_similares_doc.pdf\")"
      ],
      "metadata": {
        "id": "Q6bErfHIkkaq",
        "outputId": "60119df4-236d-4929-bc9b-1c56518254e9",
        "colab": {
          "base_uri": "https://localhost:8080/",
          "height": 1000
        }
      },
      "execution_count": 16,
      "outputs": [
        {
          "output_type": "stream",
          "name": "stderr",
          "text": [
            "<ipython-input-16-2900267296>:2: FutureWarning: \n",
            "\n",
            "Passing `palette` without assigning `hue` is deprecated and will be removed in v0.14.0. Assign the `x` variable to `hue` and set `legend=False` for the same effect.\n",
            "\n",
            "  sns.boxplot( x=\"prestador\", y=\"infraestructura\", data=df, palette=palette_colores)\n"
          ]
        },
        {
          "output_type": "display_data",
          "data": {
            "text/plain": [
              "<Figure size 640x480 with 1 Axes>"
            ],
            "image/png": "[encoded data removed]"
          },
          "metadata": {}
        },
        {
          "output_type": "display_data",
          "data": {
            "text/plain": [
              "<IPython.core.display.Javascript object>"
            ],
            "application/javascript": [
              "\n",
              "    async function download(id, filename, size) {\n",
              "      if (!google.colab.kernel.accessAllowed) {\n",
              "        return;\n",
              "      }\n",
              "      const div = document.createElement('div');\n",
              "      const label = document.createElement('label');\n",
              "      label.textContent = `Downloading \"${filename}\": `;\n",
              "      div.appendChild(label);\n",
              "      const progress = document.createElement('progress');\n",
              "      progress.max = size;\n",
              "      div.appendChild(progress);\n",
              "      document.body.appendChild(div);\n",
              "\n",
              "      const buffers = [];\n",
              "      let downloaded = 0;\n",
              "\n",
              "      const channel = await google.colab.kernel.comms.open(id);\n",
              "      // Send a message to notify the kernel that we're ready.\n",
              "      channel.send({})\n",
              "\n",
              "      for await (const message of channel.messages) {\n",
              "        // Send a message to notify the kernel that we're ready.\n",
              "        channel.send({})\n",
              "        if (message.buffers) {\n",
              "          for (const buffer of message.buffers) {\n",
              "            buffers.push(buffer);\n",
              "            downloaded += buffer.byteLength;\n",
              "            progress.value = downloaded;\n",
              "          }\n",
              "        }\n",
              "      }\n",
              "      const blob = new Blob(buffers, {type: 'application/binary'});\n",
              "      const a = document.createElement('a');\n",
              "      a.href = window.URL.createObjectURL(blob);\n",
              "      a.download = filename;\n",
              "      div.appendChild(a);\n",
              "      a.click();\n",
              "      div.remove();\n",
              "    }\n",
              "  "
            ]
          },
          "metadata": {}
        },
        {
          "output_type": "display_data",
          "data": {
            "text/plain": [
              "<IPython.core.display.Javascript object>"
            ],
            "application/javascript": [
              "download(\"download_8b5cc587-5027-49ce-bd00-ce649e3b5dfa\", \"prestadores_similares_infra.pdf\", 12490)"
            ]
          },
          "metadata": {}
        },
        {
          "output_type": "stream",
          "name": "stderr",
          "text": [
            "<ipython-input-16-2900267296>:8: FutureWarning: \n",
            "\n",
            "Passing `palette` without assigning `hue` is deprecated and will be removed in v0.14.0. Assign the `x` variable to `hue` and set `legend=False` for the same effect.\n",
            "\n",
            "  sns.boxplot( x=\"prestador\", y=\"puntaje_doctor\", data=df, palette=palette_colores)\n"
          ]
        },
        {
          "output_type": "display_data",
          "data": {
            "text/plain": [
              "<Figure size 640x480 with 1 Axes>"
            ],
            "image/png": "[encoded data removed]"
          },
          "metadata": {}
        },
        {
          "output_type": "display_data",
          "data": {
            "text/plain": [
              "<IPython.core.display.Javascript object>"
            ],
            "application/javascript": [
              "\n",
              "    async function download(id, filename, size) {\n",
              "      if (!google.colab.kernel.accessAllowed) {\n",
              "        return;\n",
              "      }\n",
              "      const div = document.createElement('div');\n",
              "      const label = document.createElement('label');\n",
              "      label.textContent = `Downloading \"${filename}\": `;\n",
              "      div.appendChild(label);\n",
              "      const progress = document.createElement('progress');\n",
              "      progress.max = size;\n",
              "      div.appendChild(progress);\n",
              "      document.body.appendChild(div);\n",
              "\n",
              "      const buffers = [];\n",
              "      let downloaded = 0;\n",
              "\n",
              "      const channel = await google.colab.kernel.comms.open(id);\n",
              "      // Send a message to notify the kernel that we're ready.\n",
              "      channel.send({})\n",
              "\n",
              "      for await (const message of channel.messages) {\n",
              "        // Send a message to notify the kernel that we're ready.\n",
              "        channel.send({})\n",
              "        if (message.buffers) {\n",
              "          for (const buffer of message.buffers) {\n",
              "            buffers.push(buffer);\n",
              "            downloaded += buffer.byteLength;\n",
              "            progress.value = downloaded;\n",
              "          }\n",
              "        }\n",
              "      }\n",
              "      const blob = new Blob(buffers, {type: 'application/binary'});\n",
              "      const a = document.createElement('a');\n",
              "      a.href = window.URL.createObjectURL(blob);\n",
              "      a.download = filename;\n",
              "      div.appendChild(a);\n",
              "      a.click();\n",
              "      div.remove();\n",
              "    }\n",
              "  "
            ]
          },
          "metadata": {}
        },
        {
          "output_type": "display_data",
          "data": {
            "text/plain": [
              "<IPython.core.display.Javascript object>"
            ],
            "application/javascript": [
              "download(\"download_dfb0e395-dbff-4c73-8b00-c0359b757a62\", \"prestadores_similares_doc.pdf\", 13529)"
            ]
          },
          "metadata": {}
        }
      ]
    },
    {
      "cell_type": "markdown",
      "source": [
        "Estimación logit\n",
        "----------------"
      ],
      "metadata": {
        "id": "9bUMko8MmAcf"
      }
    },
    {
      "cell_type": "code",
      "source": [
        "import statsmodels.api as sm\n",
        "\n",
        "# Calcular participación por prestador\n",
        "df[\"participacion\"] = df[\"num_operados\"] / df.groupby(\"ciudad\")[\"num_operados\"].transform(\"sum\")\n",
        "\n",
        "# Calcular participación opción externa y corregir valores pequeños/negativos\n",
        "df[\"participacion_opcion_externa\"] = 1 - df.groupby(\"ciudad\")[\"participacion\"].transform(\"sum\")\n",
        "df[\"participacion_opcion_externa\"] = df[\"participacion_opcion_externa\"].clip(lower=1e-6)\n",
        "\n",
        "# Calcular utilidad indirecta (delta) usando log-odds\n",
        "df[\"delta\"] = np.log(df[\"participacion\"]) - np.log(df[\"participacion_opcion_externa\"])\n",
        "\n",
        "# Variables explicativas: precio, infraestructura, puntaje doctor, cambio tecnológico\n",
        "X = df[[\"precio\", \"infraestructura\", \"puntaje_doctor\", \"tecnologia_alta\"]]\n",
        "X = sm.add_constant(X)  # agregar intercepto\n",
        "y = df[\"delta\"]\n",
        "\n",
        "# Estimar modelo lineal OLS\n",
        "modelo_logit = sm.OLS(y, X).fit(cov_type=\"HC1\")\n",
        "\n",
        "# Mostrar resultados\n",
        "print(modelo_logit.summary())\n",
        "\n"
      ],
      "metadata": {
        "id": "F3YieDFRmAMW",
        "outputId": "920f7fe2-f2d9-46b9-8269-4df7546712ec",
        "colab": {
          "base_uri": "https://localhost:8080/"
        }
      },
      "execution_count": 19,
      "outputs": [
        {
          "output_type": "stream",
          "name": "stdout",
          "text": [
            "                            OLS Regression Results                            \n",
            "==============================================================================\n",
            "Dep. Variable:                  delta   R-squared:                       0.888\n",
            "Model:                            OLS   Adj. R-squared:                  0.887\n",
            "Method:                 Least Squares   F-statistic:                     1455.\n",
            "Date:                Wed, 18 Jun 2025   Prob (F-statistic):               0.00\n",
            "Time:                        00:10:02   Log-Likelihood:                -1.2125\n",
            "No. Observations:                 677   AIC:                             12.43\n",
            "Df Residuals:                     672   BIC:                             35.01\n",
            "Df Model:                           4                                         \n",
            "Covariance Type:                  HC1                                         \n",
            "===================================================================================\n",
            "                      coef    std err          z      P>|z|      [0.025      0.975]\n",
            "-----------------------------------------------------------------------------------\n",
            "const              13.9882      0.148     94.396      0.000      13.698      14.279\n",
            "precio             -0.9926      0.018    -55.009      0.000      -1.028      -0.957\n",
            "infraestructura     0.1879      0.012     15.202      0.000       0.164       0.212\n",
            "puntaje_doctor      0.5677      0.012     48.195      0.000       0.545       0.591\n",
            "tecnologia_alta     2.7450      0.053     51.804      0.000       2.641       2.849\n",
            "==============================================================================\n",
            "Omnibus:                      158.038   Durbin-Watson:                   1.349\n",
            "Prob(Omnibus):                  0.000   Jarque-Bera (JB):              383.487\n",
            "Skew:                          -1.210   Prob(JB):                     5.33e-84\n",
            "Kurtosis:                       5.782   Cond. No.                         236.\n",
            "==============================================================================\n",
            "\n",
            "Notes:\n",
            "[1] Standard Errors are heteroscedasticity robust (HC1)\n"
          ]
        }
      ]
    }
  ]
}